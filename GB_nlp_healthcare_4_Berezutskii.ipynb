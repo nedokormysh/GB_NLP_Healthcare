{
  "nbformat": 4,
  "nbformat_minor": 0,
  "metadata": {
    "colab": {
      "provenance": [],
      "toc_visible": true
    },
    "kernelspec": {
      "name": "python3",
      "display_name": "Python 3"
    },
    "language_info": {
      "name": "python"
    }
  },
  "cells": [
    {
      "cell_type": "markdown",
      "source": [
        "**Этап построения модели машинного обучения**\n",
        "\n",
        "---\n",
        "Стандартные шаги перед обучением (стандартизация/нормализаця), решение необходомости ресамплинга из-за дисбаланса данных, выбор параметров модели и бизнесс логика - ***ваше домашнее задание***"
      ],
      "metadata": {
        "id": "UWZUwVFRWVaG"
      }
    },
    {
      "cell_type": "code",
      "execution_count": 69,
      "metadata": {
        "id": "8XVwYldRV-6n"
      },
      "outputs": [],
      "source": [
        "import pandas as pd\n",
        "import numpy as np\n",
        "\n",
        "from scipy import stats\n",
        "\n",
        "from scipy.stats import mannwhitneyu, ttest_ind, kruskal, chisquare, pearsonr, spearmanr\n",
        "from sklearn import preprocessing\n",
        "from sklearn.preprocessing import StandardScaler\n",
        "from sklearn.model_selection import train_test_split\n",
        "\n",
        "from sklearn.linear_model import LogisticRegression\n",
        "\n",
        "from sklearn.model_selection import KFold, StratifiedKFold\n",
        "from sklearn.pipeline import Pipeline\n",
        "\n",
        "from sklearn.metrics import accuracy_score, roc_auc_score, precision_score, \\\n",
        "recall_score, f1_score, log_loss, confusion_matrix, \\\n",
        "    classification_report, roc_curve, auc, precision_recall_curve\n",
        "\n",
        "from sklearn.model_selection import cross_val_score\n",
        "\n",
        "from sklearn.model_selection import GridSearchCV, RandomizedSearchCV\n",
        "\n",
        "import seaborn as sns\n",
        "import matplotlib.pyplot as plt\n",
        "\n",
        "import warnings\n",
        "warnings.filterwarnings('ignore')"
      ]
    },
    {
      "cell_type": "code",
      "source": [
        "RAND = 7575"
      ],
      "metadata": {
        "id": "HSJYmUhi3Wmw"
      },
      "execution_count": 70,
      "outputs": []
    },
    {
      "cell_type": "markdown",
      "source": [
        "# Загрузка данных"
      ],
      "metadata": {
        "id": "4LflMbGZ47U5"
      }
    },
    {
      "cell_type": "code",
      "source": [
        "df = pd.read_csv('final_ab_ds.csv')\n",
        "df = df.dropna()"
      ],
      "metadata": {
        "id": "en2vOnr-Wc5G"
      },
      "execution_count": 71,
      "outputs": []
    },
    {
      "cell_type": "code",
      "source": [
        "df.shape"
      ],
      "metadata": {
        "colab": {
          "base_uri": "https://localhost:8080/"
        },
        "id": "rkKjLCis300I",
        "outputId": "06e16a78-47d3-4041-a6b3-c5d0847c16da"
      },
      "execution_count": 72,
      "outputs": [
        {
          "output_type": "execute_result",
          "data": {
            "text/plain": [
              "(35680, 20)"
            ]
          },
          "metadata": {},
          "execution_count": 72
        }
      ]
    },
    {
      "cell_type": "code",
      "source": [
        "df['pneumonia'].unique(), df['ah'].unique()"
      ],
      "metadata": {
        "colab": {
          "base_uri": "https://localhost:8080/"
        },
        "id": "Q-VEhYOp2X3M",
        "outputId": "f1d9a39c-b728-4d8f-ed04-08bdb4cda51f"
      },
      "execution_count": 73,
      "outputs": [
        {
          "output_type": "execute_result",
          "data": {
            "text/plain": [
              "(array([1]), array([0]))"
            ]
          },
          "metadata": {},
          "execution_count": 73
        }
      ]
    },
    {
      "cell_type": "code",
      "source": [
        "df['Unnamed: 0'].nunique()"
      ],
      "metadata": {
        "colab": {
          "base_uri": "https://localhost:8080/"
        },
        "id": "B-JF5NNq3vEH",
        "outputId": "0ae7b03e-2076-4f50-af89-4a644cfa2b2e"
      },
      "execution_count": 74,
      "outputs": [
        {
          "output_type": "execute_result",
          "data": {
            "text/plain": [
              "35680"
            ]
          },
          "metadata": {},
          "execution_count": 74
        }
      ]
    },
    {
      "cell_type": "markdown",
      "source": [
        "В признаке pneumonia и ah все объекты имеют одни и теже значения, т.е. они неинформативны. Не будем использовать эти признаки.\n",
        "\n",
        "Признак 'person_id' - также неиформативен и признак 'Unnamed: 0' - вероятно является тоже неким id. Также не будем использовать эти признаки."
      ],
      "metadata": {
        "id": "Ge4ZD_dU2fa9"
      }
    },
    {
      "cell_type": "code",
      "source": [
        "df.head(3)"
      ],
      "metadata": {
        "colab": {
          "base_uri": "https://localhost:8080/",
          "height": 181
        },
        "id": "ZGCcSWZmXA4o",
        "outputId": "ecfc7d81-0a86-4cba-adc7-b38c9cfcfbe7"
      },
      "execution_count": 75,
      "outputs": [
        {
          "output_type": "execute_result",
          "data": {
            "text/plain": [
              "   Unnamed: 0  person_id  procalcitonine  fibrinogen  creatinine        wbc  \\\n",
              "1        3822        158        0.000000    8.909846    1.030282   1.363834   \n",
              "2      915492        342        0.000000    7.092240    1.027174  25.710224   \n",
              "3      641908        108        0.134918   13.265546    0.707201   0.410000   \n",
              "\n",
              "           hb         plt        crp        esr      lymph  pneumonia  ihd  \\\n",
              "1  143.647123  644.437365  58.343027  34.424705  23.300684          1    0   \n",
              "2  130.864644  483.261016   0.800000  25.493102  27.004637          1    0   \n",
              "3  141.945473  477.671705   7.526411  46.599795  17.167563          1    0   \n",
              "\n",
              "   dm  ah  sex  len  age        GFR  ab_indication  \n",
              "1   0   0    1   17   56  60.894798              0  \n",
              "2   0   0    1   34   56  61.117621              0  \n",
              "3   0   0    1   26   56  95.972393              0  "
            ],
            "text/html": [
              "\n",
              "  <div id=\"df-41aae9e7-c3a0-4cd5-a45f-e770ba8431fa\" class=\"colab-df-container\">\n",
              "    <div>\n",
              "<style scoped>\n",
              "    .dataframe tbody tr th:only-of-type {\n",
              "        vertical-align: middle;\n",
              "    }\n",
              "\n",
              "    .dataframe tbody tr th {\n",
              "        vertical-align: top;\n",
              "    }\n",
              "\n",
              "    .dataframe thead th {\n",
              "        text-align: right;\n",
              "    }\n",
              "</style>\n",
              "<table border=\"1\" class=\"dataframe\">\n",
              "  <thead>\n",
              "    <tr style=\"text-align: right;\">\n",
              "      <th></th>\n",
              "      <th>Unnamed: 0</th>\n",
              "      <th>person_id</th>\n",
              "      <th>procalcitonine</th>\n",
              "      <th>fibrinogen</th>\n",
              "      <th>creatinine</th>\n",
              "      <th>wbc</th>\n",
              "      <th>hb</th>\n",
              "      <th>plt</th>\n",
              "      <th>crp</th>\n",
              "      <th>esr</th>\n",
              "      <th>lymph</th>\n",
              "      <th>pneumonia</th>\n",
              "      <th>ihd</th>\n",
              "      <th>dm</th>\n",
              "      <th>ah</th>\n",
              "      <th>sex</th>\n",
              "      <th>len</th>\n",
              "      <th>age</th>\n",
              "      <th>GFR</th>\n",
              "      <th>ab_indication</th>\n",
              "    </tr>\n",
              "  </thead>\n",
              "  <tbody>\n",
              "    <tr>\n",
              "      <th>1</th>\n",
              "      <td>3822</td>\n",
              "      <td>158</td>\n",
              "      <td>0.000000</td>\n",
              "      <td>8.909846</td>\n",
              "      <td>1.030282</td>\n",
              "      <td>1.363834</td>\n",
              "      <td>143.647123</td>\n",
              "      <td>644.437365</td>\n",
              "      <td>58.343027</td>\n",
              "      <td>34.424705</td>\n",
              "      <td>23.300684</td>\n",
              "      <td>1</td>\n",
              "      <td>0</td>\n",
              "      <td>0</td>\n",
              "      <td>0</td>\n",
              "      <td>1</td>\n",
              "      <td>17</td>\n",
              "      <td>56</td>\n",
              "      <td>60.894798</td>\n",
              "      <td>0</td>\n",
              "    </tr>\n",
              "    <tr>\n",
              "      <th>2</th>\n",
              "      <td>915492</td>\n",
              "      <td>342</td>\n",
              "      <td>0.000000</td>\n",
              "      <td>7.092240</td>\n",
              "      <td>1.027174</td>\n",
              "      <td>25.710224</td>\n",
              "      <td>130.864644</td>\n",
              "      <td>483.261016</td>\n",
              "      <td>0.800000</td>\n",
              "      <td>25.493102</td>\n",
              "      <td>27.004637</td>\n",
              "      <td>1</td>\n",
              "      <td>0</td>\n",
              "      <td>0</td>\n",
              "      <td>0</td>\n",
              "      <td>1</td>\n",
              "      <td>34</td>\n",
              "      <td>56</td>\n",
              "      <td>61.117621</td>\n",
              "      <td>0</td>\n",
              "    </tr>\n",
              "    <tr>\n",
              "      <th>3</th>\n",
              "      <td>641908</td>\n",
              "      <td>108</td>\n",
              "      <td>0.134918</td>\n",
              "      <td>13.265546</td>\n",
              "      <td>0.707201</td>\n",
              "      <td>0.410000</td>\n",
              "      <td>141.945473</td>\n",
              "      <td>477.671705</td>\n",
              "      <td>7.526411</td>\n",
              "      <td>46.599795</td>\n",
              "      <td>17.167563</td>\n",
              "      <td>1</td>\n",
              "      <td>0</td>\n",
              "      <td>0</td>\n",
              "      <td>0</td>\n",
              "      <td>1</td>\n",
              "      <td>26</td>\n",
              "      <td>56</td>\n",
              "      <td>95.972393</td>\n",
              "      <td>0</td>\n",
              "    </tr>\n",
              "  </tbody>\n",
              "</table>\n",
              "</div>\n",
              "    <div class=\"colab-df-buttons\">\n",
              "\n",
              "  <div class=\"colab-df-container\">\n",
              "    <button class=\"colab-df-convert\" onclick=\"convertToInteractive('df-41aae9e7-c3a0-4cd5-a45f-e770ba8431fa')\"\n",
              "            title=\"Convert this dataframe to an interactive table.\"\n",
              "            style=\"display:none;\">\n",
              "\n",
              "  <svg xmlns=\"http://www.w3.org/2000/svg\" height=\"24px\" viewBox=\"0 -960 960 960\">\n",
              "    <path d=\"M120-120v-720h720v720H120Zm60-500h600v-160H180v160Zm220 220h160v-160H400v160Zm0 220h160v-160H400v160ZM180-400h160v-160H180v160Zm440 0h160v-160H620v160ZM180-180h160v-160H180v160Zm440 0h160v-160H620v160Z\"/>\n",
              "  </svg>\n",
              "    </button>\n",
              "\n",
              "  <style>\n",
              "    .colab-df-container {\n",
              "      display:flex;\n",
              "      gap: 12px;\n",
              "    }\n",
              "\n",
              "    .colab-df-convert {\n",
              "      background-color: #E8F0FE;\n",
              "      border: none;\n",
              "      border-radius: 50%;\n",
              "      cursor: pointer;\n",
              "      display: none;\n",
              "      fill: #1967D2;\n",
              "      height: 32px;\n",
              "      padding: 0 0 0 0;\n",
              "      width: 32px;\n",
              "    }\n",
              "\n",
              "    .colab-df-convert:hover {\n",
              "      background-color: #E2EBFA;\n",
              "      box-shadow: 0px 1px 2px rgba(60, 64, 67, 0.3), 0px 1px 3px 1px rgba(60, 64, 67, 0.15);\n",
              "      fill: #174EA6;\n",
              "    }\n",
              "\n",
              "    .colab-df-buttons div {\n",
              "      margin-bottom: 4px;\n",
              "    }\n",
              "\n",
              "    [theme=dark] .colab-df-convert {\n",
              "      background-color: #3B4455;\n",
              "      fill: #D2E3FC;\n",
              "    }\n",
              "\n",
              "    [theme=dark] .colab-df-convert:hover {\n",
              "      background-color: #434B5C;\n",
              "      box-shadow: 0px 1px 3px 1px rgba(0, 0, 0, 0.15);\n",
              "      filter: drop-shadow(0px 1px 2px rgba(0, 0, 0, 0.3));\n",
              "      fill: #FFFFFF;\n",
              "    }\n",
              "  </style>\n",
              "\n",
              "    <script>\n",
              "      const buttonEl =\n",
              "        document.querySelector('#df-41aae9e7-c3a0-4cd5-a45f-e770ba8431fa button.colab-df-convert');\n",
              "      buttonEl.style.display =\n",
              "        google.colab.kernel.accessAllowed ? 'block' : 'none';\n",
              "\n",
              "      async function convertToInteractive(key) {\n",
              "        const element = document.querySelector('#df-41aae9e7-c3a0-4cd5-a45f-e770ba8431fa');\n",
              "        const dataTable =\n",
              "          await google.colab.kernel.invokeFunction('convertToInteractive',\n",
              "                                                    [key], {});\n",
              "        if (!dataTable) return;\n",
              "\n",
              "        const docLinkHtml = 'Like what you see? Visit the ' +\n",
              "          '<a target=\"_blank\" href=https://colab.research.google.com/notebooks/data_table.ipynb>data table notebook</a>'\n",
              "          + ' to learn more about interactive tables.';\n",
              "        element.innerHTML = '';\n",
              "        dataTable['output_type'] = 'display_data';\n",
              "        await google.colab.output.renderOutput(dataTable, element);\n",
              "        const docLink = document.createElement('div');\n",
              "        docLink.innerHTML = docLinkHtml;\n",
              "        element.appendChild(docLink);\n",
              "      }\n",
              "    </script>\n",
              "  </div>\n",
              "\n",
              "\n",
              "<div id=\"df-49853fee-fb6d-4a5f-8360-db044abd3b6b\">\n",
              "  <button class=\"colab-df-quickchart\" onclick=\"quickchart('df-49853fee-fb6d-4a5f-8360-db044abd3b6b')\"\n",
              "            title=\"Suggest charts\"\n",
              "            style=\"display:none;\">\n",
              "\n",
              "<svg xmlns=\"http://www.w3.org/2000/svg\" height=\"24px\"viewBox=\"0 0 24 24\"\n",
              "     width=\"24px\">\n",
              "    <g>\n",
              "        <path d=\"M19 3H5c-1.1 0-2 .9-2 2v14c0 1.1.9 2 2 2h14c1.1 0 2-.9 2-2V5c0-1.1-.9-2-2-2zM9 17H7v-7h2v7zm4 0h-2V7h2v10zm4 0h-2v-4h2v4z\"/>\n",
              "    </g>\n",
              "</svg>\n",
              "  </button>\n",
              "\n",
              "<style>\n",
              "  .colab-df-quickchart {\n",
              "      --bg-color: #E8F0FE;\n",
              "      --fill-color: #1967D2;\n",
              "      --hover-bg-color: #E2EBFA;\n",
              "      --hover-fill-color: #174EA6;\n",
              "      --disabled-fill-color: #AAA;\n",
              "      --disabled-bg-color: #DDD;\n",
              "  }\n",
              "\n",
              "  [theme=dark] .colab-df-quickchart {\n",
              "      --bg-color: #3B4455;\n",
              "      --fill-color: #D2E3FC;\n",
              "      --hover-bg-color: #434B5C;\n",
              "      --hover-fill-color: #FFFFFF;\n",
              "      --disabled-bg-color: #3B4455;\n",
              "      --disabled-fill-color: #666;\n",
              "  }\n",
              "\n",
              "  .colab-df-quickchart {\n",
              "    background-color: var(--bg-color);\n",
              "    border: none;\n",
              "    border-radius: 50%;\n",
              "    cursor: pointer;\n",
              "    display: none;\n",
              "    fill: var(--fill-color);\n",
              "    height: 32px;\n",
              "    padding: 0;\n",
              "    width: 32px;\n",
              "  }\n",
              "\n",
              "  .colab-df-quickchart:hover {\n",
              "    background-color: var(--hover-bg-color);\n",
              "    box-shadow: 0 1px 2px rgba(60, 64, 67, 0.3), 0 1px 3px 1px rgba(60, 64, 67, 0.15);\n",
              "    fill: var(--button-hover-fill-color);\n",
              "  }\n",
              "\n",
              "  .colab-df-quickchart-complete:disabled,\n",
              "  .colab-df-quickchart-complete:disabled:hover {\n",
              "    background-color: var(--disabled-bg-color);\n",
              "    fill: var(--disabled-fill-color);\n",
              "    box-shadow: none;\n",
              "  }\n",
              "\n",
              "  .colab-df-spinner {\n",
              "    border: 2px solid var(--fill-color);\n",
              "    border-color: transparent;\n",
              "    border-bottom-color: var(--fill-color);\n",
              "    animation:\n",
              "      spin 1s steps(1) infinite;\n",
              "  }\n",
              "\n",
              "  @keyframes spin {\n",
              "    0% {\n",
              "      border-color: transparent;\n",
              "      border-bottom-color: var(--fill-color);\n",
              "      border-left-color: var(--fill-color);\n",
              "    }\n",
              "    20% {\n",
              "      border-color: transparent;\n",
              "      border-left-color: var(--fill-color);\n",
              "      border-top-color: var(--fill-color);\n",
              "    }\n",
              "    30% {\n",
              "      border-color: transparent;\n",
              "      border-left-color: var(--fill-color);\n",
              "      border-top-color: var(--fill-color);\n",
              "      border-right-color: var(--fill-color);\n",
              "    }\n",
              "    40% {\n",
              "      border-color: transparent;\n",
              "      border-right-color: var(--fill-color);\n",
              "      border-top-color: var(--fill-color);\n",
              "    }\n",
              "    60% {\n",
              "      border-color: transparent;\n",
              "      border-right-color: var(--fill-color);\n",
              "    }\n",
              "    80% {\n",
              "      border-color: transparent;\n",
              "      border-right-color: var(--fill-color);\n",
              "      border-bottom-color: var(--fill-color);\n",
              "    }\n",
              "    90% {\n",
              "      border-color: transparent;\n",
              "      border-bottom-color: var(--fill-color);\n",
              "    }\n",
              "  }\n",
              "</style>\n",
              "\n",
              "  <script>\n",
              "    async function quickchart(key) {\n",
              "      const quickchartButtonEl =\n",
              "        document.querySelector('#' + key + ' button');\n",
              "      quickchartButtonEl.disabled = true;  // To prevent multiple clicks.\n",
              "      quickchartButtonEl.classList.add('colab-df-spinner');\n",
              "      try {\n",
              "        const charts = await google.colab.kernel.invokeFunction(\n",
              "            'suggestCharts', [key], {});\n",
              "      } catch (error) {\n",
              "        console.error('Error during call to suggestCharts:', error);\n",
              "      }\n",
              "      quickchartButtonEl.classList.remove('colab-df-spinner');\n",
              "      quickchartButtonEl.classList.add('colab-df-quickchart-complete');\n",
              "    }\n",
              "    (() => {\n",
              "      let quickchartButtonEl =\n",
              "        document.querySelector('#df-49853fee-fb6d-4a5f-8360-db044abd3b6b button');\n",
              "      quickchartButtonEl.style.display =\n",
              "        google.colab.kernel.accessAllowed ? 'block' : 'none';\n",
              "    })();\n",
              "  </script>\n",
              "</div>\n",
              "    </div>\n",
              "  </div>\n"
            ],
            "application/vnd.google.colaboratory.intrinsic+json": {
              "type": "dataframe",
              "variable_name": "df",
              "summary": "{\n  \"name\": \"df\",\n  \"rows\": 35680,\n  \"fields\": [\n    {\n      \"column\": \"Unnamed: 0\",\n      \"properties\": {\n        \"dtype\": \"number\",\n        \"std\": 288422,\n        \"min\": 15,\n        \"max\": 999995,\n        \"num_unique_values\": 35680,\n        \"samples\": [\n          776709,\n          499192,\n          175223\n        ],\n        \"semantic_type\": \"\",\n        \"description\": \"\"\n      }\n    },\n    {\n      \"column\": \"person_id\",\n      \"properties\": {\n        \"dtype\": \"number\",\n        \"std\": 376,\n        \"min\": 108,\n        \"max\": 1103,\n        \"num_unique_values\": 996,\n        \"samples\": [\n          715,\n          544,\n          464\n        ],\n        \"semantic_type\": \"\",\n        \"description\": \"\"\n      }\n    },\n    {\n      \"column\": \"procalcitonine\",\n      \"properties\": {\n        \"dtype\": \"number\",\n        \"std\": 0.19117898623238205,\n        \"min\": 0.0,\n        \"max\": 0.8035858963862474,\n        \"num_unique_values\": 29756,\n        \"samples\": [\n          0.4755667277775403,\n          0.0457714805520319,\n          0.3248307844811286\n        ],\n        \"semantic_type\": \"\",\n        \"description\": \"\"\n      }\n    },\n    {\n      \"column\": \"fibrinogen\",\n      \"properties\": {\n        \"dtype\": \"number\",\n        \"std\": 2.7438906396143525,\n        \"min\": 2.44,\n        \"max\": 18.0,\n        \"num_unique_values\": 34955,\n        \"samples\": [\n          8.4570534293311,\n          13.099476995325611,\n          4.725090709935374\n        ],\n        \"semantic_type\": \"\",\n        \"description\": \"\"\n      }\n    },\n    {\n      \"column\": \"creatinine\",\n      \"properties\": {\n        \"dtype\": \"number\",\n        \"std\": 0.1297867777112972,\n        \"min\": 0.667420814479638,\n        \"max\": 1.4788848307978135,\n        \"num_unique_values\": 35139,\n        \"samples\": [\n          0.9503763617386176,\n          0.7683676057038471,\n          1.133945242921387\n        ],\n        \"semantic_type\": \"\",\n        \"description\": \"\"\n      }\n    },\n    {\n      \"column\": \"wbc\",\n      \"properties\": {\n        \"dtype\": \"number\",\n        \"std\": 12.964722392046227,\n        \"min\": 0.41,\n        \"max\": 81.01646825692376,\n        \"num_unique_values\": 32379,\n        \"samples\": [\n          24.36328954474596,\n          2.20084779170913,\n          13.5356285328796\n        ],\n        \"semantic_type\": \"\",\n        \"description\": \"\"\n      }\n    },\n    {\n      \"column\": \"hb\",\n      \"properties\": {\n        \"dtype\": \"number\",\n        \"std\": 13.38810940224832,\n        \"min\": 85.0,\n        \"max\": 203.2696510719232,\n        \"num_unique_values\": 35677,\n        \"samples\": [\n          144.60236902305832,\n          138.73871014163987,\n          138.96459482588867\n        ],\n        \"semantic_type\": \"\",\n        \"description\": \"\"\n      }\n    },\n    {\n      \"column\": \"plt\",\n      \"properties\": {\n        \"dtype\": \"number\",\n        \"std\": 196.52735171112627,\n        \"min\": 4.1,\n        \"max\": 894.0,\n        \"num_unique_values\": 34122,\n        \"samples\": [\n          368.7011657638173,\n          264.5938573044631,\n          429.782534909295\n        ],\n        \"semantic_type\": \"\",\n        \"description\": \"\"\n      }\n    },\n    {\n      \"column\": \"crp\",\n      \"properties\": {\n        \"dtype\": \"number\",\n        \"std\": 33.695465026398125,\n        \"min\": 0.8,\n        \"max\": 193.08351731277563,\n        \"num_unique_values\": 29185,\n        \"samples\": [\n          60.95288718725448,\n          53.52759595581668,\n          92.49896880181674\n        ],\n        \"semantic_type\": \"\",\n        \"description\": \"\"\n      }\n    },\n    {\n      \"column\": \"esr\",\n      \"properties\": {\n        \"dtype\": \"number\",\n        \"std\": 15.05035263228837,\n        \"min\": 1.0,\n        \"max\": 63.0,\n        \"num_unique_values\": 33835,\n        \"samples\": [\n          18.125456706478975,\n          36.64144205046013,\n          21.057836464499843\n        ],\n        \"semantic_type\": \"\",\n        \"description\": \"\"\n      }\n    },\n    {\n      \"column\": \"lymph\",\n      \"properties\": {\n        \"dtype\": \"number\",\n        \"std\": 8.843542419486013,\n        \"min\": 0.01,\n        \"max\": 43.0,\n        \"num_unique_values\": 33937,\n        \"samples\": [\n          14.508560698072628,\n          18.664930257782373,\n          32.2112032676805\n        ],\n        \"semantic_type\": \"\",\n        \"description\": \"\"\n      }\n    },\n    {\n      \"column\": \"pneumonia\",\n      \"properties\": {\n        \"dtype\": \"number\",\n        \"std\": 0,\n        \"min\": 1,\n        \"max\": 1,\n        \"num_unique_values\": 1,\n        \"samples\": [\n          1\n        ],\n        \"semantic_type\": \"\",\n        \"description\": \"\"\n      }\n    },\n    {\n      \"column\": \"ihd\",\n      \"properties\": {\n        \"dtype\": \"number\",\n        \"std\": 0,\n        \"min\": 0,\n        \"max\": 1,\n        \"num_unique_values\": 2,\n        \"samples\": [\n          1\n        ],\n        \"semantic_type\": \"\",\n        \"description\": \"\"\n      }\n    },\n    {\n      \"column\": \"dm\",\n      \"properties\": {\n        \"dtype\": \"number\",\n        \"std\": 0,\n        \"min\": 0,\n        \"max\": 1,\n        \"num_unique_values\": 2,\n        \"samples\": [\n          1\n        ],\n        \"semantic_type\": \"\",\n        \"description\": \"\"\n      }\n    },\n    {\n      \"column\": \"ah\",\n      \"properties\": {\n        \"dtype\": \"number\",\n        \"std\": 0,\n        \"min\": 0,\n        \"max\": 0,\n        \"num_unique_values\": 1,\n        \"samples\": [\n          0\n        ],\n        \"semantic_type\": \"\",\n        \"description\": \"\"\n      }\n    },\n    {\n      \"column\": \"sex\",\n      \"properties\": {\n        \"dtype\": \"number\",\n        \"std\": 0,\n        \"min\": 0,\n        \"max\": 1,\n        \"num_unique_values\": 2,\n        \"samples\": [\n          0\n        ],\n        \"semantic_type\": \"\",\n        \"description\": \"\"\n      }\n    },\n    {\n      \"column\": \"len\",\n      \"properties\": {\n        \"dtype\": \"number\",\n        \"std\": 10,\n        \"min\": 5,\n        \"max\": 52,\n        \"num_unique_values\": 48,\n        \"samples\": [\n          39\n        ],\n        \"semantic_type\": \"\",\n        \"description\": \"\"\n      }\n    },\n    {\n      \"column\": \"age\",\n      \"properties\": {\n        \"dtype\": \"number\",\n        \"std\": 6,\n        \"min\": 25,\n        \"max\": 84,\n        \"num_unique_values\": 23,\n        \"samples\": [\n          50\n        ],\n        \"semantic_type\": \"\",\n        \"description\": \"\"\n      }\n    },\n    {\n      \"column\": \"GFR\",\n      \"properties\": {\n        \"dtype\": \"number\",\n        \"std\": 12.2400473022242,\n        \"min\": 39.08096753127646,\n        \"max\": 127.97287924190374,\n        \"num_unique_values\": 35151,\n        \"samples\": [\n          55.034027393688426\n        ],\n        \"semantic_type\": \"\",\n        \"description\": \"\"\n      }\n    },\n    {\n      \"column\": \"ab_indication\",\n      \"properties\": {\n        \"dtype\": \"number\",\n        \"std\": 0,\n        \"min\": 0,\n        \"max\": 1,\n        \"num_unique_values\": 2,\n        \"samples\": [\n          1\n        ],\n        \"semantic_type\": \"\",\n        \"description\": \"\"\n      }\n    }\n  ]\n}"
            }
          },
          "metadata": {},
          "execution_count": 75
        }
      ]
    },
    {
      "cell_type": "code",
      "source": [
        "df['ihd'].unique()"
      ],
      "metadata": {
        "colab": {
          "base_uri": "https://localhost:8080/"
        },
        "id": "EQnRjBfBrbJ5",
        "outputId": "090a5d0e-594e-42c8-cca3-2a2db4918faf"
      },
      "execution_count": 76,
      "outputs": [
        {
          "output_type": "execute_result",
          "data": {
            "text/plain": [
              "array([0, 1])"
            ]
          },
          "metadata": {},
          "execution_count": 76
        }
      ]
    },
    {
      "cell_type": "markdown",
      "source": [
        "4 признака, по факту, являются категориальными."
      ],
      "metadata": {
        "id": "vxP6XY27rylF"
      }
    },
    {
      "cell_type": "code",
      "source": [
        "cat_feats = ['pneumonia', 'ihd', 'ah', 'sex']"
      ],
      "metadata": {
        "id": "YHmN5W1JrjKb"
      },
      "execution_count": 77,
      "outputs": []
    },
    {
      "cell_type": "code",
      "source": [
        "df.drop(['pneumonia', 'ah', 'person_id', 'Unnamed: 0'], axis=1, inplace=True)"
      ],
      "metadata": {
        "id": "N3sZGcav27Pl"
      },
      "execution_count": 78,
      "outputs": []
    },
    {
      "cell_type": "code",
      "source": [
        "df.info()"
      ],
      "metadata": {
        "colab": {
          "base_uri": "https://localhost:8080/"
        },
        "id": "5q370XTs3KMN",
        "outputId": "2e0566a7-15ec-425d-92a9-8f3dac904d6c"
      },
      "execution_count": 79,
      "outputs": [
        {
          "output_type": "stream",
          "name": "stdout",
          "text": [
            "<class 'pandas.core.frame.DataFrame'>\n",
            "Int64Index: 35680 entries, 1 to 54975\n",
            "Data columns (total 16 columns):\n",
            " #   Column          Non-Null Count  Dtype  \n",
            "---  ------          --------------  -----  \n",
            " 0   procalcitonine  35680 non-null  float64\n",
            " 1   fibrinogen      35680 non-null  float64\n",
            " 2   creatinine      35680 non-null  float64\n",
            " 3   wbc             35680 non-null  float64\n",
            " 4   hb              35680 non-null  float64\n",
            " 5   plt             35680 non-null  float64\n",
            " 6   crp             35680 non-null  float64\n",
            " 7   esr             35680 non-null  float64\n",
            " 8   lymph           35680 non-null  float64\n",
            " 9   ihd             35680 non-null  int64  \n",
            " 10  dm              35680 non-null  int64  \n",
            " 11  sex             35680 non-null  int64  \n",
            " 12  len             35680 non-null  int64  \n",
            " 13  age             35680 non-null  int64  \n",
            " 14  GFR             35680 non-null  float64\n",
            " 15  ab_indication   35680 non-null  int64  \n",
            "dtypes: float64(10), int64(6)\n",
            "memory usage: 4.6 MB\n"
          ]
        }
      ]
    },
    {
      "cell_type": "code",
      "source": [
        "# проверим остались ли пропуски\n",
        "df.isna().any().any()"
      ],
      "metadata": {
        "colab": {
          "base_uri": "https://localhost:8080/"
        },
        "id": "zvVHr5Cm4Ewf",
        "outputId": "7c6f3bb3-fbe3-460b-8436-50fa65089d3f"
      },
      "execution_count": 80,
      "outputs": [
        {
          "output_type": "execute_result",
          "data": {
            "text/plain": [
              "False"
            ]
          },
          "metadata": {},
          "execution_count": 80
        }
      ]
    },
    {
      "cell_type": "code",
      "source": [
        "# проверим остались ли дубли\n",
        "df.duplicated().any()"
      ],
      "metadata": {
        "colab": {
          "base_uri": "https://localhost:8080/"
        },
        "id": "HnU8w63e4XSD",
        "outputId": "92c10d73-612d-4712-ed81-828e19baffbb"
      },
      "execution_count": 81,
      "outputs": [
        {
          "output_type": "execute_result",
          "data": {
            "text/plain": [
              "False"
            ]
          },
          "metadata": {},
          "execution_count": 81
        }
      ]
    },
    {
      "cell_type": "code",
      "source": [
        "df.describe()"
      ],
      "metadata": {
        "colab": {
          "base_uri": "https://localhost:8080/",
          "height": 320
        },
        "id": "ijJhHULL4jVx",
        "outputId": "6d0a086c-d6c9-4475-b909-bf5072a328e1"
      },
      "execution_count": 82,
      "outputs": [
        {
          "output_type": "execute_result",
          "data": {
            "text/plain": [
              "       procalcitonine    fibrinogen    creatinine           wbc            hb  \\\n",
              "count    35680.000000  35680.000000  35680.000000  35680.000000  35680.000000   \n",
              "mean         0.223226      8.221106      0.955292     19.731314    136.316272   \n",
              "std          0.191179      2.743891      0.129787     12.964722     13.388109   \n",
              "min          0.000000      2.440000      0.667421      0.410000     85.000000   \n",
              "25%          0.049837      6.313580      0.867231      9.561287    127.313756   \n",
              "50%          0.177051      8.190892      0.955109     19.235831    136.285121   \n",
              "75%          0.442477     10.098011      1.042678     28.682272    145.197873   \n",
              "max          0.803586     18.000000      1.478885     81.016468    203.269651   \n",
              "\n",
              "                plt           crp           esr         lymph           ihd  \\\n",
              "count  35680.000000  35680.000000  35680.000000  35680.000000  35680.000000   \n",
              "mean     365.741457     40.642421     29.736816     15.657603      0.328447   \n",
              "std      196.527352     33.695465     15.050353      8.843542      0.469655   \n",
              "min        4.100000      0.800000      1.000000      0.010000      0.000000   \n",
              "25%      222.130922      9.689840     18.935149      9.240164      0.000000   \n",
              "50%      366.060121     36.645410     29.632108     15.460375      0.000000   \n",
              "75%      505.474558     63.598027     40.336945     21.700623      1.000000   \n",
              "max      894.000000    193.083517     63.000000     43.000000      1.000000   \n",
              "\n",
              "                 dm           sex           len           age           GFR  \\\n",
              "count  35680.000000  35680.000000  35680.000000  35680.000000  35680.000000   \n",
              "mean       0.000308      0.987276     30.434473     56.188957     68.432292   \n",
              "std        0.017556      0.112083     10.279696      6.605270     12.240047   \n",
              "min        0.000000      0.000000      5.000000     25.000000     39.080968   \n",
              "25%        0.000000      1.000000     23.000000     56.000000     59.663348   \n",
              "50%        0.000000      1.000000     30.000000     56.000000     66.624504   \n",
              "75%        0.000000      1.000000     38.000000     60.000000     75.388802   \n",
              "max        1.000000      1.000000     52.000000     84.000000    127.972879   \n",
              "\n",
              "       ab_indication  \n",
              "count   35680.000000  \n",
              "mean        0.248683  \n",
              "std         0.432256  \n",
              "min         0.000000  \n",
              "25%         0.000000  \n",
              "50%         0.000000  \n",
              "75%         0.000000  \n",
              "max         1.000000  "
            ],
            "text/html": [
              "\n",
              "  <div id=\"df-bd461447-4066-46bf-8df9-ce08dd204ef2\" class=\"colab-df-container\">\n",
              "    <div>\n",
              "<style scoped>\n",
              "    .dataframe tbody tr th:only-of-type {\n",
              "        vertical-align: middle;\n",
              "    }\n",
              "\n",
              "    .dataframe tbody tr th {\n",
              "        vertical-align: top;\n",
              "    }\n",
              "\n",
              "    .dataframe thead th {\n",
              "        text-align: right;\n",
              "    }\n",
              "</style>\n",
              "<table border=\"1\" class=\"dataframe\">\n",
              "  <thead>\n",
              "    <tr style=\"text-align: right;\">\n",
              "      <th></th>\n",
              "      <th>procalcitonine</th>\n",
              "      <th>fibrinogen</th>\n",
              "      <th>creatinine</th>\n",
              "      <th>wbc</th>\n",
              "      <th>hb</th>\n",
              "      <th>plt</th>\n",
              "      <th>crp</th>\n",
              "      <th>esr</th>\n",
              "      <th>lymph</th>\n",
              "      <th>ihd</th>\n",
              "      <th>dm</th>\n",
              "      <th>sex</th>\n",
              "      <th>len</th>\n",
              "      <th>age</th>\n",
              "      <th>GFR</th>\n",
              "      <th>ab_indication</th>\n",
              "    </tr>\n",
              "  </thead>\n",
              "  <tbody>\n",
              "    <tr>\n",
              "      <th>count</th>\n",
              "      <td>35680.000000</td>\n",
              "      <td>35680.000000</td>\n",
              "      <td>35680.000000</td>\n",
              "      <td>35680.000000</td>\n",
              "      <td>35680.000000</td>\n",
              "      <td>35680.000000</td>\n",
              "      <td>35680.000000</td>\n",
              "      <td>35680.000000</td>\n",
              "      <td>35680.000000</td>\n",
              "      <td>35680.000000</td>\n",
              "      <td>35680.000000</td>\n",
              "      <td>35680.000000</td>\n",
              "      <td>35680.000000</td>\n",
              "      <td>35680.000000</td>\n",
              "      <td>35680.000000</td>\n",
              "      <td>35680.000000</td>\n",
              "    </tr>\n",
              "    <tr>\n",
              "      <th>mean</th>\n",
              "      <td>0.223226</td>\n",
              "      <td>8.221106</td>\n",
              "      <td>0.955292</td>\n",
              "      <td>19.731314</td>\n",
              "      <td>136.316272</td>\n",
              "      <td>365.741457</td>\n",
              "      <td>40.642421</td>\n",
              "      <td>29.736816</td>\n",
              "      <td>15.657603</td>\n",
              "      <td>0.328447</td>\n",
              "      <td>0.000308</td>\n",
              "      <td>0.987276</td>\n",
              "      <td>30.434473</td>\n",
              "      <td>56.188957</td>\n",
              "      <td>68.432292</td>\n",
              "      <td>0.248683</td>\n",
              "    </tr>\n",
              "    <tr>\n",
              "      <th>std</th>\n",
              "      <td>0.191179</td>\n",
              "      <td>2.743891</td>\n",
              "      <td>0.129787</td>\n",
              "      <td>12.964722</td>\n",
              "      <td>13.388109</td>\n",
              "      <td>196.527352</td>\n",
              "      <td>33.695465</td>\n",
              "      <td>15.050353</td>\n",
              "      <td>8.843542</td>\n",
              "      <td>0.469655</td>\n",
              "      <td>0.017556</td>\n",
              "      <td>0.112083</td>\n",
              "      <td>10.279696</td>\n",
              "      <td>6.605270</td>\n",
              "      <td>12.240047</td>\n",
              "      <td>0.432256</td>\n",
              "    </tr>\n",
              "    <tr>\n",
              "      <th>min</th>\n",
              "      <td>0.000000</td>\n",
              "      <td>2.440000</td>\n",
              "      <td>0.667421</td>\n",
              "      <td>0.410000</td>\n",
              "      <td>85.000000</td>\n",
              "      <td>4.100000</td>\n",
              "      <td>0.800000</td>\n",
              "      <td>1.000000</td>\n",
              "      <td>0.010000</td>\n",
              "      <td>0.000000</td>\n",
              "      <td>0.000000</td>\n",
              "      <td>0.000000</td>\n",
              "      <td>5.000000</td>\n",
              "      <td>25.000000</td>\n",
              "      <td>39.080968</td>\n",
              "      <td>0.000000</td>\n",
              "    </tr>\n",
              "    <tr>\n",
              "      <th>25%</th>\n",
              "      <td>0.049837</td>\n",
              "      <td>6.313580</td>\n",
              "      <td>0.867231</td>\n",
              "      <td>9.561287</td>\n",
              "      <td>127.313756</td>\n",
              "      <td>222.130922</td>\n",
              "      <td>9.689840</td>\n",
              "      <td>18.935149</td>\n",
              "      <td>9.240164</td>\n",
              "      <td>0.000000</td>\n",
              "      <td>0.000000</td>\n",
              "      <td>1.000000</td>\n",
              "      <td>23.000000</td>\n",
              "      <td>56.000000</td>\n",
              "      <td>59.663348</td>\n",
              "      <td>0.000000</td>\n",
              "    </tr>\n",
              "    <tr>\n",
              "      <th>50%</th>\n",
              "      <td>0.177051</td>\n",
              "      <td>8.190892</td>\n",
              "      <td>0.955109</td>\n",
              "      <td>19.235831</td>\n",
              "      <td>136.285121</td>\n",
              "      <td>366.060121</td>\n",
              "      <td>36.645410</td>\n",
              "      <td>29.632108</td>\n",
              "      <td>15.460375</td>\n",
              "      <td>0.000000</td>\n",
              "      <td>0.000000</td>\n",
              "      <td>1.000000</td>\n",
              "      <td>30.000000</td>\n",
              "      <td>56.000000</td>\n",
              "      <td>66.624504</td>\n",
              "      <td>0.000000</td>\n",
              "    </tr>\n",
              "    <tr>\n",
              "      <th>75%</th>\n",
              "      <td>0.442477</td>\n",
              "      <td>10.098011</td>\n",
              "      <td>1.042678</td>\n",
              "      <td>28.682272</td>\n",
              "      <td>145.197873</td>\n",
              "      <td>505.474558</td>\n",
              "      <td>63.598027</td>\n",
              "      <td>40.336945</td>\n",
              "      <td>21.700623</td>\n",
              "      <td>1.000000</td>\n",
              "      <td>0.000000</td>\n",
              "      <td>1.000000</td>\n",
              "      <td>38.000000</td>\n",
              "      <td>60.000000</td>\n",
              "      <td>75.388802</td>\n",
              "      <td>0.000000</td>\n",
              "    </tr>\n",
              "    <tr>\n",
              "      <th>max</th>\n",
              "      <td>0.803586</td>\n",
              "      <td>18.000000</td>\n",
              "      <td>1.478885</td>\n",
              "      <td>81.016468</td>\n",
              "      <td>203.269651</td>\n",
              "      <td>894.000000</td>\n",
              "      <td>193.083517</td>\n",
              "      <td>63.000000</td>\n",
              "      <td>43.000000</td>\n",
              "      <td>1.000000</td>\n",
              "      <td>1.000000</td>\n",
              "      <td>1.000000</td>\n",
              "      <td>52.000000</td>\n",
              "      <td>84.000000</td>\n",
              "      <td>127.972879</td>\n",
              "      <td>1.000000</td>\n",
              "    </tr>\n",
              "  </tbody>\n",
              "</table>\n",
              "</div>\n",
              "    <div class=\"colab-df-buttons\">\n",
              "\n",
              "  <div class=\"colab-df-container\">\n",
              "    <button class=\"colab-df-convert\" onclick=\"convertToInteractive('df-bd461447-4066-46bf-8df9-ce08dd204ef2')\"\n",
              "            title=\"Convert this dataframe to an interactive table.\"\n",
              "            style=\"display:none;\">\n",
              "\n",
              "  <svg xmlns=\"http://www.w3.org/2000/svg\" height=\"24px\" viewBox=\"0 -960 960 960\">\n",
              "    <path d=\"M120-120v-720h720v720H120Zm60-500h600v-160H180v160Zm220 220h160v-160H400v160Zm0 220h160v-160H400v160ZM180-400h160v-160H180v160Zm440 0h160v-160H620v160ZM180-180h160v-160H180v160Zm440 0h160v-160H620v160Z\"/>\n",
              "  </svg>\n",
              "    </button>\n",
              "\n",
              "  <style>\n",
              "    .colab-df-container {\n",
              "      display:flex;\n",
              "      gap: 12px;\n",
              "    }\n",
              "\n",
              "    .colab-df-convert {\n",
              "      background-color: #E8F0FE;\n",
              "      border: none;\n",
              "      border-radius: 50%;\n",
              "      cursor: pointer;\n",
              "      display: none;\n",
              "      fill: #1967D2;\n",
              "      height: 32px;\n",
              "      padding: 0 0 0 0;\n",
              "      width: 32px;\n",
              "    }\n",
              "\n",
              "    .colab-df-convert:hover {\n",
              "      background-color: #E2EBFA;\n",
              "      box-shadow: 0px 1px 2px rgba(60, 64, 67, 0.3), 0px 1px 3px 1px rgba(60, 64, 67, 0.15);\n",
              "      fill: #174EA6;\n",
              "    }\n",
              "\n",
              "    .colab-df-buttons div {\n",
              "      margin-bottom: 4px;\n",
              "    }\n",
              "\n",
              "    [theme=dark] .colab-df-convert {\n",
              "      background-color: #3B4455;\n",
              "      fill: #D2E3FC;\n",
              "    }\n",
              "\n",
              "    [theme=dark] .colab-df-convert:hover {\n",
              "      background-color: #434B5C;\n",
              "      box-shadow: 0px 1px 3px 1px rgba(0, 0, 0, 0.15);\n",
              "      filter: drop-shadow(0px 1px 2px rgba(0, 0, 0, 0.3));\n",
              "      fill: #FFFFFF;\n",
              "    }\n",
              "  </style>\n",
              "\n",
              "    <script>\n",
              "      const buttonEl =\n",
              "        document.querySelector('#df-bd461447-4066-46bf-8df9-ce08dd204ef2 button.colab-df-convert');\n",
              "      buttonEl.style.display =\n",
              "        google.colab.kernel.accessAllowed ? 'block' : 'none';\n",
              "\n",
              "      async function convertToInteractive(key) {\n",
              "        const element = document.querySelector('#df-bd461447-4066-46bf-8df9-ce08dd204ef2');\n",
              "        const dataTable =\n",
              "          await google.colab.kernel.invokeFunction('convertToInteractive',\n",
              "                                                    [key], {});\n",
              "        if (!dataTable) return;\n",
              "\n",
              "        const docLinkHtml = 'Like what you see? Visit the ' +\n",
              "          '<a target=\"_blank\" href=https://colab.research.google.com/notebooks/data_table.ipynb>data table notebook</a>'\n",
              "          + ' to learn more about interactive tables.';\n",
              "        element.innerHTML = '';\n",
              "        dataTable['output_type'] = 'display_data';\n",
              "        await google.colab.output.renderOutput(dataTable, element);\n",
              "        const docLink = document.createElement('div');\n",
              "        docLink.innerHTML = docLinkHtml;\n",
              "        element.appendChild(docLink);\n",
              "      }\n",
              "    </script>\n",
              "  </div>\n",
              "\n",
              "\n",
              "<div id=\"df-5abf5895-e49c-4b9c-a3a1-e731ccb42440\">\n",
              "  <button class=\"colab-df-quickchart\" onclick=\"quickchart('df-5abf5895-e49c-4b9c-a3a1-e731ccb42440')\"\n",
              "            title=\"Suggest charts\"\n",
              "            style=\"display:none;\">\n",
              "\n",
              "<svg xmlns=\"http://www.w3.org/2000/svg\" height=\"24px\"viewBox=\"0 0 24 24\"\n",
              "     width=\"24px\">\n",
              "    <g>\n",
              "        <path d=\"M19 3H5c-1.1 0-2 .9-2 2v14c0 1.1.9 2 2 2h14c1.1 0 2-.9 2-2V5c0-1.1-.9-2-2-2zM9 17H7v-7h2v7zm4 0h-2V7h2v10zm4 0h-2v-4h2v4z\"/>\n",
              "    </g>\n",
              "</svg>\n",
              "  </button>\n",
              "\n",
              "<style>\n",
              "  .colab-df-quickchart {\n",
              "      --bg-color: #E8F0FE;\n",
              "      --fill-color: #1967D2;\n",
              "      --hover-bg-color: #E2EBFA;\n",
              "      --hover-fill-color: #174EA6;\n",
              "      --disabled-fill-color: #AAA;\n",
              "      --disabled-bg-color: #DDD;\n",
              "  }\n",
              "\n",
              "  [theme=dark] .colab-df-quickchart {\n",
              "      --bg-color: #3B4455;\n",
              "      --fill-color: #D2E3FC;\n",
              "      --hover-bg-color: #434B5C;\n",
              "      --hover-fill-color: #FFFFFF;\n",
              "      --disabled-bg-color: #3B4455;\n",
              "      --disabled-fill-color: #666;\n",
              "  }\n",
              "\n",
              "  .colab-df-quickchart {\n",
              "    background-color: var(--bg-color);\n",
              "    border: none;\n",
              "    border-radius: 50%;\n",
              "    cursor: pointer;\n",
              "    display: none;\n",
              "    fill: var(--fill-color);\n",
              "    height: 32px;\n",
              "    padding: 0;\n",
              "    width: 32px;\n",
              "  }\n",
              "\n",
              "  .colab-df-quickchart:hover {\n",
              "    background-color: var(--hover-bg-color);\n",
              "    box-shadow: 0 1px 2px rgba(60, 64, 67, 0.3), 0 1px 3px 1px rgba(60, 64, 67, 0.15);\n",
              "    fill: var(--button-hover-fill-color);\n",
              "  }\n",
              "\n",
              "  .colab-df-quickchart-complete:disabled,\n",
              "  .colab-df-quickchart-complete:disabled:hover {\n",
              "    background-color: var(--disabled-bg-color);\n",
              "    fill: var(--disabled-fill-color);\n",
              "    box-shadow: none;\n",
              "  }\n",
              "\n",
              "  .colab-df-spinner {\n",
              "    border: 2px solid var(--fill-color);\n",
              "    border-color: transparent;\n",
              "    border-bottom-color: var(--fill-color);\n",
              "    animation:\n",
              "      spin 1s steps(1) infinite;\n",
              "  }\n",
              "\n",
              "  @keyframes spin {\n",
              "    0% {\n",
              "      border-color: transparent;\n",
              "      border-bottom-color: var(--fill-color);\n",
              "      border-left-color: var(--fill-color);\n",
              "    }\n",
              "    20% {\n",
              "      border-color: transparent;\n",
              "      border-left-color: var(--fill-color);\n",
              "      border-top-color: var(--fill-color);\n",
              "    }\n",
              "    30% {\n",
              "      border-color: transparent;\n",
              "      border-left-color: var(--fill-color);\n",
              "      border-top-color: var(--fill-color);\n",
              "      border-right-color: var(--fill-color);\n",
              "    }\n",
              "    40% {\n",
              "      border-color: transparent;\n",
              "      border-right-color: var(--fill-color);\n",
              "      border-top-color: var(--fill-color);\n",
              "    }\n",
              "    60% {\n",
              "      border-color: transparent;\n",
              "      border-right-color: var(--fill-color);\n",
              "    }\n",
              "    80% {\n",
              "      border-color: transparent;\n",
              "      border-right-color: var(--fill-color);\n",
              "      border-bottom-color: var(--fill-color);\n",
              "    }\n",
              "    90% {\n",
              "      border-color: transparent;\n",
              "      border-bottom-color: var(--fill-color);\n",
              "    }\n",
              "  }\n",
              "</style>\n",
              "\n",
              "  <script>\n",
              "    async function quickchart(key) {\n",
              "      const quickchartButtonEl =\n",
              "        document.querySelector('#' + key + ' button');\n",
              "      quickchartButtonEl.disabled = true;  // To prevent multiple clicks.\n",
              "      quickchartButtonEl.classList.add('colab-df-spinner');\n",
              "      try {\n",
              "        const charts = await google.colab.kernel.invokeFunction(\n",
              "            'suggestCharts', [key], {});\n",
              "      } catch (error) {\n",
              "        console.error('Error during call to suggestCharts:', error);\n",
              "      }\n",
              "      quickchartButtonEl.classList.remove('colab-df-spinner');\n",
              "      quickchartButtonEl.classList.add('colab-df-quickchart-complete');\n",
              "    }\n",
              "    (() => {\n",
              "      let quickchartButtonEl =\n",
              "        document.querySelector('#df-5abf5895-e49c-4b9c-a3a1-e731ccb42440 button');\n",
              "      quickchartButtonEl.style.display =\n",
              "        google.colab.kernel.accessAllowed ? 'block' : 'none';\n",
              "    })();\n",
              "  </script>\n",
              "</div>\n",
              "    </div>\n",
              "  </div>\n"
            ],
            "application/vnd.google.colaboratory.intrinsic+json": {
              "type": "dataframe",
              "summary": "{\n  \"name\": \"df\",\n  \"rows\": 8,\n  \"fields\": [\n    {\n      \"column\": \"procalcitonine\",\n      \"properties\": {\n        \"dtype\": \"number\",\n        \"std\": 12614.689653049689,\n        \"min\": 0.0,\n        \"max\": 35680.0,\n        \"num_unique_values\": 8,\n        \"samples\": [\n          0.22322627657998442,\n          0.1770510242443063,\n          35680.0\n        ],\n        \"semantic_type\": \"\",\n        \"description\": \"\"\n      }\n    },\n    {\n      \"column\": \"fibrinogen\",\n      \"properties\": {\n        \"dtype\": \"number\",\n        \"std\": 12611.957110850422,\n        \"min\": 2.44,\n        \"max\": 35680.0,\n        \"num_unique_values\": 8,\n        \"samples\": [\n          8.221106263457683,\n          8.190892482890309,\n          35680.0\n        ],\n        \"semantic_type\": \"\",\n        \"description\": \"\"\n      }\n    },\n    {\n      \"column\": \"creatinine\",\n      \"properties\": {\n        \"dtype\": \"number\",\n        \"std\": 12614.477067257167,\n        \"min\": 0.1297867777112972,\n        \"max\": 35680.0,\n        \"num_unique_values\": 8,\n        \"samples\": [\n          0.9552916896184713,\n          0.9551089776331594,\n          35680.0\n        ],\n        \"semantic_type\": \"\",\n        \"description\": \"\"\n      }\n    },\n    {\n      \"column\": \"wbc\",\n      \"properties\": {\n        \"dtype\": \"number\",\n        \"std\": 12606.141561947334,\n        \"min\": 0.41,\n        \"max\": 35680.0,\n        \"num_unique_values\": 8,\n        \"samples\": [\n          19.731313681792518,\n          19.23583086533354,\n          35680.0\n        ],\n        \"semantic_type\": \"\",\n        \"description\": \"\"\n      }\n    },\n    {\n      \"column\": \"hb\",\n      \"properties\": {\n        \"dtype\": \"number\",\n        \"std\": 12572.134418084284,\n        \"min\": 13.38810940224832,\n        \"max\": 35680.0,\n        \"num_unique_values\": 8,\n        \"samples\": [\n          136.3162724604053,\n          136.28512147063327,\n          35680.0\n        ],\n        \"semantic_type\": \"\",\n        \"description\": \"\"\n      }\n    },\n    {\n      \"column\": \"plt\",\n      \"properties\": {\n        \"dtype\": \"number\",\n        \"std\": 12488.524537733814,\n        \"min\": 4.1,\n        \"max\": 35680.0,\n        \"num_unique_values\": 8,\n        \"samples\": [\n          365.7414569359939,\n          366.060121109702,\n          35680.0\n        ],\n        \"semantic_type\": \"\",\n        \"description\": \"\"\n      }\n    },\n    {\n      \"column\": \"crp\",\n      \"properties\": {\n        \"dtype\": \"number\",\n        \"std\": 12595.827742841846,\n        \"min\": 0.8,\n        \"max\": 35680.0,\n        \"num_unique_values\": 8,\n        \"samples\": [\n          40.64242079901728,\n          36.64541023656558,\n          35680.0\n        ],\n        \"semantic_type\": \"\",\n        \"description\": \"\"\n      }\n    },\n    {\n      \"column\": \"esr\",\n      \"properties\": {\n        \"dtype\": \"number\",\n        \"std\": 12604.81343548808,\n        \"min\": 1.0,\n        \"max\": 35680.0,\n        \"num_unique_values\": 8,\n        \"samples\": [\n          29.736816385544653,\n          29.63210772895468,\n          35680.0\n        ],\n        \"semantic_type\": \"\",\n        \"description\": \"\"\n      }\n    },\n    {\n      \"column\": \"lymph\",\n      \"properties\": {\n        \"dtype\": \"number\",\n        \"std\": 12609.037846512063,\n        \"min\": 0.01,\n        \"max\": 35680.0,\n        \"num_unique_values\": 8,\n        \"samples\": [\n          15.657603166471198,\n          15.460374573796035,\n          35680.0\n        ],\n        \"semantic_type\": \"\",\n        \"description\": \"\"\n      }\n    },\n    {\n      \"column\": \"ihd\",\n      \"properties\": {\n        \"dtype\": \"number\",\n        \"std\": 12614.643657708893,\n        \"min\": 0.0,\n        \"max\": 35680.0,\n        \"num_unique_values\": 5,\n        \"samples\": [\n          0.32844730941704037,\n          1.0,\n          0.46965503980315515\n        ],\n        \"semantic_type\": \"\",\n        \"description\": \"\"\n      }\n    },\n    {\n      \"column\": \"dm\",\n      \"properties\": {\n        \"dtype\": \"number\",\n        \"std\": 12614.733571288727,\n        \"min\": 0.0,\n        \"max\": 35680.0,\n        \"num_unique_values\": 5,\n        \"samples\": [\n          0.0003082959641255605,\n          1.0,\n          0.01755589803696362\n        ],\n        \"semantic_type\": \"\",\n        \"description\": \"\"\n      }\n    },\n    {\n      \"column\": \"sex\",\n      \"properties\": {\n        \"dtype\": \"number\",\n        \"std\": 12614.527427046643,\n        \"min\": 0.0,\n        \"max\": 35680.0,\n        \"num_unique_values\": 5,\n        \"samples\": [\n          0.9872757847533632,\n          1.0,\n          0.11208328013370261\n        ],\n        \"semantic_type\": \"\",\n        \"description\": \"\"\n      }\n    },\n    {\n      \"column\": \"len\",\n      \"properties\": {\n        \"dtype\": \"number\",\n        \"std\": 12605.262233965655,\n        \"min\": 5.0,\n        \"max\": 35680.0,\n        \"num_unique_values\": 8,\n        \"samples\": [\n          30.434473094170404,\n          30.0,\n          35680.0\n        ],\n        \"semantic_type\": \"\",\n        \"description\": \"\"\n      }\n    },\n    {\n      \"column\": \"age\",\n      \"properties\": {\n        \"dtype\": \"number\",\n        \"std\": 12597.442682738916,\n        \"min\": 6.60526966977037,\n        \"max\": 35680.0,\n        \"num_unique_values\": 7,\n        \"samples\": [\n          35680.0,\n          56.18895739910314,\n          60.0\n        ],\n        \"semantic_type\": \"\",\n        \"description\": \"\"\n      }\n    },\n    {\n      \"column\": \"GFR\",\n      \"properties\": {\n        \"dtype\": \"number\",\n        \"std\": 12592.129630894604,\n        \"min\": 12.2400473022242,\n        \"max\": 35680.0,\n        \"num_unique_values\": 8,\n        \"samples\": [\n          68.43229164942271,\n          66.62450425727806,\n          35680.0\n        ],\n        \"semantic_type\": \"\",\n        \"description\": \"\"\n      }\n    },\n    {\n      \"column\": \"ab_indication\",\n      \"properties\": {\n        \"dtype\": \"number\",\n        \"std\": 12614.700080948065,\n        \"min\": 0.0,\n        \"max\": 35680.0,\n        \"num_unique_values\": 5,\n        \"samples\": [\n          0.24868273542600897,\n          1.0,\n          0.4322555600690414\n        ],\n        \"semantic_type\": \"\",\n        \"description\": \"\"\n      }\n    }\n  ]\n}"
            }
          },
          "metadata": {},
          "execution_count": 82
        }
      ]
    },
    {
      "cell_type": "markdown",
      "source": [
        "Категориальных признаков у нас нет."
      ],
      "metadata": {
        "id": "6GiySa0E4rRx"
      }
    },
    {
      "cell_type": "code",
      "source": [
        "df['ab_indication'].unique()"
      ],
      "metadata": {
        "colab": {
          "base_uri": "https://localhost:8080/"
        },
        "id": "fIGrFA3nJPn9",
        "outputId": "9eed45c5-c0f3-43f0-8b65-63d16a6c873c"
      },
      "execution_count": 83,
      "outputs": [
        {
          "output_type": "execute_result",
          "data": {
            "text/plain": [
              "array([0, 1])"
            ]
          },
          "metadata": {},
          "execution_count": 83
        }
      ]
    },
    {
      "cell_type": "markdown",
      "source": [
        "# EDA"
      ],
      "metadata": {
        "id": "ax0OlsAb44am"
      }
    },
    {
      "cell_type": "markdown",
      "source": [
        "**Бизнес задача и выбор метрики**\n",
        "\n",
        "Пусть нашей задачей будет прогнозировать необходимость лечения антибиотиками. Мы стремимся уменьшить количество назначения курса антибиотика, т.е. назначать только тем, кому лечение определённо необходимо. Возможно тут следует использовать precision.\n",
        "\n",
        "Но хочу использовать интегральную метрику roc-auc. Исхожу из предположения, что день лечения относительно дорог. И если мы не назначили антибиотики, и пациент вернулся, то это будут дополнительные расходы. (помимо важности своевременного лечения). Исходя из этой логики нам потребуются дополнительные пороги (в данном случае, т.к. размылял о длительности лечения в стационаре, т.е. нам бы необходимо знать стоимость 1 дня лечения, стоимость повторного лечения в случае ухудшения здоровья пациента из-за неназначения курса. Опять же всё это в принципе, помимо вообще степени тяжести заболевания пациента и проблем.).\n",
        "Для этого всего нам необходимы другие данные.\n",
        "Если исходить из качества лечения и здоровья пациентов, то необходимо знать какие побочные явления могут вызывать данные антибиотики, чтобы оценивать риски назначения лечения не тем пациентам.\n",
        "\n",
        "В общем, выбрал roc-auc.\n",
        "\n"
      ],
      "metadata": {
        "id": "xEObg95dKEu9"
      }
    },
    {
      "cell_type": "markdown",
      "source": [
        "## Проверка на нормальность распределения."
      ],
      "metadata": {
        "id": "esz84C6LvtUG"
      }
    },
    {
      "cell_type": "code",
      "source": [
        "columns =['plt', 'esr', 'fibrinogen', 'creatinine', 'wbc',  'crp','lymph']\n",
        "df_no_ind = df[df['ab_indication'] == 0]\n",
        "df_ind = df[df['ab_indication'] == 1]"
      ],
      "metadata": {
        "id": "qi2RYS9kwQGS"
      },
      "execution_count": 84,
      "outputs": []
    },
    {
      "cell_type": "code",
      "source": [
        "for i in columns:\n",
        "  lst1 = df_no_ind[i]\n",
        "  lst2 = df_ind[i]\n",
        "  shapiro_test = stats.shapiro(lst1) # тест шапиро-уилка\n",
        "  shapiro_test2 = stats.shapiro(lst2) # тест шапиро-уилка\n",
        "  if shapiro_test[1] < .05:\n",
        "    print('Данные {0} распределены ненормально,\\\n",
        "           p-value - {1}'.format(i,  shapiro_test[1]))\n",
        "  if shapiro_test2[1] < .05:\n",
        "    print('Данные {0} распределены ненормально,\\\n",
        "           p-value - {1}'.format(i,  shapiro_test2[1]))\n",
        "  else:\n",
        "    pass"
      ],
      "metadata": {
        "colab": {
          "base_uri": "https://localhost:8080/"
        },
        "id": "78j-TI94wSbx",
        "outputId": "a3051c8b-ff03-4709-c99c-2b7d2c0f535b"
      },
      "execution_count": 85,
      "outputs": [
        {
          "output_type": "stream",
          "name": "stdout",
          "text": [
            "Данные plt распределены ненормально,           p-value - 1.7142533019814427e-20\n",
            "Данные plt распределены ненормально,           p-value - 0.0\n",
            "Данные esr распределены ненормально,           p-value - 1.1145927985239595e-40\n",
            "Данные esr распределены ненормально,           p-value - 1.4016444175928051e-30\n",
            "Данные fibrinogen распределены ненормально,           p-value - 9.587672119282562e-20\n",
            "Данные fibrinogen распределены ненормально,           p-value - 4.379362085706425e-27\n",
            "Данные creatinine распределены ненормально,           p-value - 1.95159155019103e-23\n",
            "Данные creatinine распределены ненормально,           p-value - 3.3187122212667564e-13\n",
            "Данные wbc распределены ненормально,           p-value - 0.0\n",
            "Данные wbc распределены ненормально,           p-value - 9.937696198009841e-29\n",
            "Данные crp распределены ненормально,           p-value - 0.0\n",
            "Данные crp распределены ненормально,           p-value - 9.361197117922101e-34\n",
            "Данные lymph распределены ненормально,           p-value - 1.4651632359869695e-36\n",
            "Данные lymph распределены ненормально,           p-value - 1.6418576901373012e-38\n"
          ]
        }
      ]
    },
    {
      "cell_type": "markdown",
      "source": [
        "## target"
      ],
      "metadata": {
        "id": "hp3nDlJyNUgi"
      }
    },
    {
      "cell_type": "code",
      "source": [
        "neg, pos = np.bincount(df['ab_indication'])\n",
        "total = neg + pos\n",
        "print('Examples:\\n    Total: {}\\n    Positive: {} ({:.1f}% of total)\\n'.format(\n",
        "    total, pos, 100 * pos / total))"
      ],
      "metadata": {
        "colab": {
          "base_uri": "https://localhost:8080/"
        },
        "id": "N0AAHHn5JV1-",
        "outputId": "89d335a3-c418-48bb-f41f-592650c40700"
      },
      "execution_count": 86,
      "outputs": [
        {
          "output_type": "stream",
          "name": "stdout",
          "text": [
            "Examples:\n",
            "    Total: 35680\n",
            "    Positive: 8873 (24.9% of total)\n",
            "\n"
          ]
        }
      ]
    },
    {
      "cell_type": "code",
      "source": [
        "norm_target = (df['ab_indication']\n",
        "               .value_counts(normalize=True)\n",
        "               .mul(100)\n",
        "               .rename('percent')\n",
        "               .reset_index())\n",
        "\n",
        "plt.figure(figsize=(8, 7))\n",
        "ax = sns.barplot(x='index', y='percent', data=norm_target,  palette='Set2')\n",
        "\n",
        "for p in ax.patches:\n",
        "    percentage = '{:.1f}%'.format(p.get_height())\n",
        "    ax.annotate(percentage,  # текст\n",
        "                # координата xy\n",
        "                (p.get_x() + p.get_width() / 2., p.get_height()),\n",
        "                # центрирование\n",
        "                ha='center',\n",
        "                va='center',\n",
        "                xytext=(0, 10),\n",
        "                # точка смещения относительно координаты\n",
        "                textcoords='offset points',\n",
        "                fontsize=14)\n",
        "\n",
        "plt.title('Лечение антибиотиками', fontsize=20)\n",
        "plt.xlabel('Лечение антибиотиками', fontsize=14)\n",
        "plt.ylabel('Проценты', fontsize=14)\n",
        "\n",
        "plt.xticks(fontsize=14)\n",
        "plt.yticks(fontsize=14);"
      ],
      "metadata": {
        "colab": {
          "base_uri": "https://localhost:8080/",
          "height": 659
        },
        "id": "DGGoHITDI34C",
        "outputId": "898d015d-ad8c-4ece-eda8-111e32b10fd0"
      },
      "execution_count": 87,
      "outputs": [
        {
          "output_type": "display_data",
          "data": {
            "text/plain": [
              "<Figure size 800x700 with 1 Axes>"
            ],
            "image/png": "[encoded data removed]"
          },
          "metadata": {}
        }
      ]
    },
    {
      "cell_type": "markdown",
      "source": [
        "## Correlation map"
      ],
      "metadata": {
        "id": "iKodVA29On1E"
      }
    },
    {
      "cell_type": "code",
      "source": [
        "# cmap = sns.diverging_palette(275,150,  s=40, l=65, n=9)\n",
        "# corrmat = df.corr()\n",
        "# plt.subplots(figsize=(18, 18))\n",
        "# sns.heatmap(corrmat, cmap= cmap, annot=True, square=True);"
      ],
      "metadata": {
        "id": "T3Lj4vU8OreG"
      },
      "execution_count": 88,
      "outputs": []
    },
    {
      "cell_type": "code",
      "source": [
        "sns.set_style(\"whitegrid\")\n",
        "fig, ax = plt.subplots(figsize=(10, 15))\n",
        "mask = np.triu(np.ones_like(df.corr(numeric_only=True), dtype=bool))\n",
        "\n",
        "heatmap = sns.heatmap(\n",
        "    df.corr(numeric_only=True).round(3),\n",
        "    annot=True,\n",
        "    square=True,\n",
        "    cmap=\"BrBG\",\n",
        "    cbar_kws={\"fraction\": 0.01},\n",
        "    linewidth=3,\n",
        "\n",
        "    mask=mask,\n",
        ")\n",
        "\n",
        "heatmap.set_title(\n",
        "    \"Тепловая карта корреляции Пирсона\", fontdict={\"fontsize\": 20}, pad=30\n",
        ");"
      ],
      "metadata": {
        "colab": {
          "base_uri": "https://localhost:8080/",
          "height": 937
        },
        "id": "GpKuUkowPIKB",
        "outputId": "d7aa8a8b-6c28-4130-bb52-d5302bbf0993"
      },
      "execution_count": 89,
      "outputs": [
        {
          "output_type": "display_data",
          "data": {
            "text/plain": [
              "<Figure size 1000x1500 with 2 Axes>"
            ],
            "image/png": "[encoded data removed]"
          },
          "metadata": {}
        }
      ]
    },
    {
      "cell_type": "markdown",
      "source": [
        "**Выводы:**\n",
        "- уровень прокальцитонина линейно коррелирован с целевой переменной\n",
        "- также линейную корреляцию имеет уровень тромбоцитов, c-реактивный белок, ЛДГ, и длительность\n",
        "- некоторые признаки имеют высокую скоррелированность, т.к. будем использовать линейную модель (объяснение выбора модели в modeling), то для построения модели удалим часть признаков, имеющих корреляцию выше 0.9"
      ],
      "metadata": {
        "id": "JHLFSu_BkfKL"
      }
    },
    {
      "cell_type": "code",
      "source": [
        "cor_matrix = df.corr(method='pearson').drop(['ab_indication'], axis=1).corr().abs()\n",
        "\n",
        "upper_tri = cor_matrix.where(\n",
        "    np.triu(np.ones(cor_matrix.shape), k=1).astype(bool))\n",
        "\n",
        "to_drop = [\n",
        "    column for column in upper_tri.columns if any(upper_tri[column] > 0.9)\n",
        "]\n",
        "df_clean = df.drop(to_drop, axis=1)"
      ],
      "metadata": {
        "id": "8_tOhBss9bU1"
      },
      "execution_count": 90,
      "outputs": []
    },
    {
      "cell_type": "markdown",
      "source": [
        "## procalcitonine"
      ],
      "metadata": {
        "id": "il8Xc1nqy9jk"
      }
    },
    {
      "cell_type": "code",
      "source": [
        "fig = plt.figure(figsize=(8, 10), dpi=80)\n",
        "\n",
        "sns.displot(data=df,\n",
        "            x=df['procalcitonine'],\n",
        "            hue='ab_indication',\n",
        "            aspect=2)"
      ],
      "metadata": {
        "colab": {
          "base_uri": "https://localhost:8080/",
          "height": 541
        },
        "id": "cCdw6Ds1yuMd",
        "outputId": "babf3ad9-c27b-485e-e305-579934ddb319"
      },
      "execution_count": 91,
      "outputs": [
        {
          "output_type": "execute_result",
          "data": {
            "text/plain": [
              "<seaborn.axisgrid.FacetGrid at 0x7c9dde91b8b0>"
            ]
          },
          "metadata": {},
          "execution_count": 91
        },
        {
          "output_type": "display_data",
          "data": {
            "text/plain": [
              "<Figure size 640x800 with 0 Axes>"
            ]
          },
          "metadata": {}
        },
        {
          "output_type": "display_data",
          "data": {
            "text/plain": [
              "<Figure size 1103.86x500 with 1 Axes>"
            ],
            "image/png": "[encoded data removed]"
          },
          "metadata": {}
        }
      ]
    },
    {
      "cell_type": "markdown",
      "source": [
        "**Выводы:**\n",
        "- не совсем ясны наличие явных мод в прокальцитонине\n",
        "- и явно видна взаимосвязь с назначением лечения от значения 0.45"
      ],
      "metadata": {
        "id": "nhMdR8XN1hVb"
      }
    },
    {
      "cell_type": "markdown",
      "source": [
        "## age"
      ],
      "metadata": {
        "id": "NHT3KXTqyq3F"
      }
    },
    {
      "cell_type": "code",
      "source": [
        "sns.boxplot(df['age'], orient='h')"
      ],
      "metadata": {
        "colab": {
          "base_uri": "https://localhost:8080/",
          "height": 466
        },
        "id": "3WsfwAakyuu1",
        "outputId": "d0547311-db81-4f5a-d4da-76d7dd977e6a"
      },
      "execution_count": 92,
      "outputs": [
        {
          "output_type": "execute_result",
          "data": {
            "text/plain": [
              "<Axes: xlabel='age'>"
            ]
          },
          "metadata": {},
          "execution_count": 92
        },
        {
          "output_type": "display_data",
          "data": {
            "text/plain": [
              "<Figure size 640x480 with 1 Axes>"
            ],
            "image/png": "[encoded data removed]"
          },
          "metadata": {}
        }
      ]
    },
    {
      "cell_type": "code",
      "source": [
        "fig = plt.figure(figsize=(8, 10), dpi=80)\n",
        "\n",
        "sns.displot(data=df,\n",
        "            x=df['age'],\n",
        "            hue='ab_indication',\n",
        "            aspect=2)"
      ],
      "metadata": {
        "colab": {
          "base_uri": "https://localhost:8080/",
          "height": 541
        },
        "id": "1Te4hRobjvig",
        "outputId": "99248219-3ad6-4fb9-b759-5b03022b0288"
      },
      "execution_count": 93,
      "outputs": [
        {
          "output_type": "execute_result",
          "data": {
            "text/plain": [
              "<seaborn.axisgrid.FacetGrid at 0x7c9dde67ba00>"
            ]
          },
          "metadata": {},
          "execution_count": 93
        },
        {
          "output_type": "display_data",
          "data": {
            "text/plain": [
              "<Figure size 640x800 with 0 Axes>"
            ]
          },
          "metadata": {}
        },
        {
          "output_type": "display_data",
          "data": {
            "text/plain": [
              "<Figure size 1103.86x500 with 1 Axes>"
            ],
            "image/png": "[encoded data removed]"
          },
          "metadata": {}
        }
      ]
    },
    {
      "cell_type": "markdown",
      "source": [
        "**Выводы:**\n",
        "- у нас очень много выбросов по возрастам, большинство пациентов имели возраст от 55 до 60\n",
        "- из интересного: лечение пациетом больше 60 назначалось практически всегда"
      ],
      "metadata": {
        "id": "dgS05Zha08yj"
      }
    },
    {
      "cell_type": "markdown",
      "source": [
        "## CRP"
      ],
      "metadata": {
        "id": "b1ZZnA8504CJ"
      }
    },
    {
      "cell_type": "code",
      "source": [
        "fig = plt.figure(figsize=(8, 10), dpi=80)\n",
        "\n",
        "sns.displot(data=df,\n",
        "            x=df['crp'],\n",
        "            hue='ab_indication',\n",
        "            kde=True,\n",
        "            aspect=2)"
      ],
      "metadata": {
        "colab": {
          "base_uri": "https://localhost:8080/",
          "height": 541
        },
        "id": "FjmIgBNE0bSP",
        "outputId": "17e0e0ac-cf8a-4426-c293-6fd2eaca9c68"
      },
      "execution_count": 94,
      "outputs": [
        {
          "output_type": "execute_result",
          "data": {
            "text/plain": [
              "<seaborn.axisgrid.FacetGrid at 0x7c9dde701ed0>"
            ]
          },
          "metadata": {},
          "execution_count": 94
        },
        {
          "output_type": "display_data",
          "data": {
            "text/plain": [
              "<Figure size 640x800 with 0 Axes>"
            ]
          },
          "metadata": {}
        },
        {
          "output_type": "display_data",
          "data": {
            "text/plain": [
              "<Figure size 1103.86x500 with 1 Axes>"
            ],
            "image/png": "[encoded data removed]"
          },
          "metadata": {}
        }
      ]
    },
    {
      "cell_type": "markdown",
      "source": [
        "## sex"
      ],
      "metadata": {
        "id": "OUQaEOiV2DuW"
      }
    },
    {
      "cell_type": "code",
      "source": [
        "def barplot_group(df_data: pd.DataFrame, col_main: str, col_group: str,\n",
        "                  title: str) -> None:\n",
        "    \"\"\"\n",
        "    Построение barplot с нормированными данными с выводом значений на графике\n",
        "    \"\"\"\n",
        "\n",
        "    plt.figure(figsize=(15, 6))\n",
        "\n",
        "    data = (df_data.groupby(\n",
        "        [col_group])[col_main].value_counts(normalize=True).rename(\n",
        "            'percentage').mul(100).reset_index().sort_values(col_group))\n",
        "\n",
        "    ax = sns.barplot(x=col_main,\n",
        "                     y=\"percentage\",\n",
        "                     hue=col_group,\n",
        "                     data=data,\n",
        "                     palette='rocket')\n",
        "\n",
        "    for p in ax.patches:\n",
        "        percentage = '{:.1f}%'.format(p.get_height())\n",
        "        ax.annotate(\n",
        "            percentage,  # текст\n",
        "            (p.get_x() + p.get_width() / 2., p.get_height()),  # координата xy\n",
        "            ha='center',  # центрирование\n",
        "            va='center',\n",
        "            xytext=(0, 7),\n",
        "            textcoords='offset points',  # точка смещения относительно координаты\n",
        "            fontsize=12)\n",
        "\n",
        "    plt.title(title, fontsize=16)\n",
        "    plt.ylabel('Percentage', fontsize=14)\n",
        "    plt.xlabel(col_main, fontsize=14)\n",
        "    plt.show()"
      ],
      "metadata": {
        "id": "TurRfccE3uhi"
      },
      "execution_count": 95,
      "outputs": []
    },
    {
      "cell_type": "code",
      "source": [
        "barplot_group(df, \"sex\", \"ab_indication\", 'sex-ab_indication')"
      ],
      "metadata": {
        "colab": {
          "base_uri": "https://localhost:8080/",
          "height": 571
        },
        "id": "Zab46g3F3wxD",
        "outputId": "292bb2e4-e649-4285-82d0-3a332a8cad0c"
      },
      "execution_count": 96,
      "outputs": [
        {
          "output_type": "display_data",
          "data": {
            "text/plain": [
              "<Figure size 1500x600 with 1 Axes>"
            ],
            "image/png": "[encoded data removed]"
          },
          "metadata": {}
        }
      ]
    },
    {
      "cell_type": "code",
      "source": [
        "df['sex'].value_counts()"
      ],
      "metadata": {
        "colab": {
          "base_uri": "https://localhost:8080/"
        },
        "id": "r8tqS53_38B6",
        "outputId": "d9a0e3a7-8f83-4d90-ce55-72aa89d43f71"
      },
      "execution_count": 97,
      "outputs": [
        {
          "output_type": "execute_result",
          "data": {
            "text/plain": [
              "1    35226\n",
              "0      454\n",
              "Name: sex, dtype: int64"
            ]
          },
          "metadata": {},
          "execution_count": 97
        }
      ]
    },
    {
      "cell_type": "markdown",
      "source": [
        "**Выводы:**\n",
        "- одного пола у нас в данных представлено значительно больше, чем другого."
      ],
      "metadata": {
        "id": "JLkPshnW4AOH"
      }
    },
    {
      "cell_type": "markdown",
      "source": [
        "**Выводы**\n",
        "- вообще при рассмотрении данных они выглядят неинтуитивно понятными, возможно из-за их синтетического характера. Отсюда возможная неиформативность EDA\n",
        "- насколько понимаю, лучше изначально выдвигать гипотезу о влиянии признака на целевую переменную, а лишь затем проверять и рассматривать данные, исходя из предоположений, но это несколько сложно, т.к. у меня нет мед. образования + возможно данные не слишком репрезентативны\n",
        "Поэтому предполагаю, что разбирать каждый признак - нецелесообразно."
      ],
      "metadata": {
        "id": "fMbcuDD34ROa"
      }
    },
    {
      "cell_type": "markdown",
      "source": [
        "# Modeling"
      ],
      "metadata": {
        "id": "YcwBW3JILhS9"
      }
    },
    {
      "cell_type": "code",
      "source": [
        "def get_metrics(y_test, y_pred, y_score, name):\n",
        "\n",
        "    '''\n",
        "    Функция для получения метрик модели.\n",
        "    '''\n",
        "    df_metrics = pd.DataFrame()\n",
        "\n",
        "    df_metrics['model'] = [name]\n",
        "\n",
        "    # Основные метрики для задачи классификации\n",
        "    df_metrics['Accuracy'] = accuracy_score(y_test, y_pred)\n",
        "    df_metrics['ROC_AUC'] = roc_auc_score(y_test, y_score[:, 1])\n",
        "    df_metrics['Precision'] = precision_score(y_test, y_pred)\n",
        "    df_metrics['Recall'] = recall_score(y_test, y_pred)\n",
        "    df_metrics['f1'] = f1_score(y_test, y_pred)\n",
        "    df_metrics['Logloss'] = log_loss(y_test, y_score)\n",
        "\n",
        "    return df_metrics"
      ],
      "metadata": {
        "id": "I6Uzz-6A_DaF"
      },
      "execution_count": 98,
      "outputs": []
    },
    {
      "cell_type": "markdown",
      "source": [
        "## Baseline"
      ],
      "metadata": {
        "id": "tGzQaDDe5rkS"
      }
    },
    {
      "cell_type": "code",
      "source": [
        "targets = ['ab_indication']\n",
        "\n",
        "# делим данные на признаки и целевую переменную\n",
        "X = df_clean.drop(targets, axis=1)\n",
        "y = df_clean['ab_indication']"
      ],
      "metadata": {
        "id": "AzVBNuto5PEg"
      },
      "execution_count": 99,
      "outputs": []
    },
    {
      "cell_type": "code",
      "source": [
        "# разбиваем данные\n",
        "# константу инициализировали в начале ноутбука\n",
        "X_train, X_test, y_train, y_test = train_test_split(X,\n",
        "                                                    y,\n",
        "                                                    test_size=0.25,\n",
        "                                                    random_state=RAND,\n",
        "                                                    # stratify=y\n",
        "                                                    )"
      ],
      "metadata": {
        "id": "Vrw9sb885uQb"
      },
      "execution_count": 100,
      "outputs": []
    },
    {
      "cell_type": "markdown",
      "source": [
        "Возможно лучше было бы использовать, например, бустинги, но в качестве учебной задачи рассмотрим логистическую регрессию.\n",
        "\n",
        "Предположим мы хотим сразу увидеть вероятность, без дополнительной калибровки, после получения результата, поэтому выбираем логистическую регрессию.\n",
        "\n",
        "Не будем использовать стратификацию данных и балансировку по классам, т.к. это нарушит нам вероятностный характер ответов модели."
      ],
      "metadata": {
        "id": "vuaZGEDG88UZ"
      }
    },
    {
      "cell_type": "code",
      "source": [
        "# обучаем Logistic Regression\n",
        "\n",
        "lg_pipe = Pipeline([('scaler', StandardScaler()),\n",
        "                    (\"lg\", LogisticRegression(random_state=RAND,\n",
        "                          #  class_weight='balanced'\n",
        "                           ))])\n",
        "\n",
        "lg_pipe.fit(X_train, y_train)\n",
        "\n",
        "# получаем спрогнозированные метки классов\n",
        "y_pred = lg_pipe.predict(X_test)\n",
        "# получаем спрогнозированные вероятности\n",
        "y_prob = lg_pipe.predict_proba(X_test)"
      ],
      "metadata": {
        "id": "KmfVo8oz5zk4"
      },
      "execution_count": 101,
      "outputs": []
    },
    {
      "cell_type": "code",
      "source": [
        "metrics_cl = get_metrics(y_test, y_pred, y_prob, name='LogisticRegression_Baseline_Test')\n",
        "metrics_cl"
      ],
      "metadata": {
        "colab": {
          "base_uri": "https://localhost:8080/",
          "height": 81
        },
        "id": "_Oiun4qN_OH-",
        "outputId": "7a1d13cc-9bb9-4296-e937-5bdc07525c7d"
      },
      "execution_count": 102,
      "outputs": [
        {
          "output_type": "execute_result",
          "data": {
            "text/plain": [
              "                              model  Accuracy  ROC_AUC  Precision  Recall  \\\n",
              "0  LogisticRegression_Baseline_Test  0.995067  0.99999   0.980269     1.0   \n",
              "\n",
              "         f1   Logloss  \n",
              "0  0.990036  0.013273  "
            ],
            "text/html": [
              "\n",
              "  <div id=\"df-3b0c764f-239a-4c12-a471-3ed5d37fab35\" class=\"colab-df-container\">\n",
              "    <div>\n",
              "<style scoped>\n",
              "    .dataframe tbody tr th:only-of-type {\n",
              "        vertical-align: middle;\n",
              "    }\n",
              "\n",
              "    .dataframe tbody tr th {\n",
              "        vertical-align: top;\n",
              "    }\n",
              "\n",
              "    .dataframe thead th {\n",
              "        text-align: right;\n",
              "    }\n",
              "</style>\n",
              "<table border=\"1\" class=\"dataframe\">\n",
              "  <thead>\n",
              "    <tr style=\"text-align: right;\">\n",
              "      <th></th>\n",
              "      <th>model</th>\n",
              "      <th>Accuracy</th>\n",
              "      <th>ROC_AUC</th>\n",
              "      <th>Precision</th>\n",
              "      <th>Recall</th>\n",
              "      <th>f1</th>\n",
              "      <th>Logloss</th>\n",
              "    </tr>\n",
              "  </thead>\n",
              "  <tbody>\n",
              "    <tr>\n",
              "      <th>0</th>\n",
              "      <td>LogisticRegression_Baseline_Test</td>\n",
              "      <td>0.995067</td>\n",
              "      <td>0.99999</td>\n",
              "      <td>0.980269</td>\n",
              "      <td>1.0</td>\n",
              "      <td>0.990036</td>\n",
              "      <td>0.013273</td>\n",
              "    </tr>\n",
              "  </tbody>\n",
              "</table>\n",
              "</div>\n",
              "    <div class=\"colab-df-buttons\">\n",
              "\n",
              "  <div class=\"colab-df-container\">\n",
              "    <button class=\"colab-df-convert\" onclick=\"convertToInteractive('df-3b0c764f-239a-4c12-a471-3ed5d37fab35')\"\n",
              "            title=\"Convert this dataframe to an interactive table.\"\n",
              "            style=\"display:none;\">\n",
              "\n",
              "  <svg xmlns=\"http://www.w3.org/2000/svg\" height=\"24px\" viewBox=\"0 -960 960 960\">\n",
              "    <path d=\"M120-120v-720h720v720H120Zm60-500h600v-160H180v160Zm220 220h160v-160H400v160Zm0 220h160v-160H400v160ZM180-400h160v-160H180v160Zm440 0h160v-160H620v160ZM180-180h160v-160H180v160Zm440 0h160v-160H620v160Z\"/>\n",
              "  </svg>\n",
              "    </button>\n",
              "\n",
              "  <style>\n",
              "    .colab-df-container {\n",
              "      display:flex;\n",
              "      gap: 12px;\n",
              "    }\n",
              "\n",
              "    .colab-df-convert {\n",
              "      background-color: #E8F0FE;\n",
              "      border: none;\n",
              "      border-radius: 50%;\n",
              "      cursor: pointer;\n",
              "      display: none;\n",
              "      fill: #1967D2;\n",
              "      height: 32px;\n",
              "      padding: 0 0 0 0;\n",
              "      width: 32px;\n",
              "    }\n",
              "\n",
              "    .colab-df-convert:hover {\n",
              "      background-color: #E2EBFA;\n",
              "      box-shadow: 0px 1px 2px rgba(60, 64, 67, 0.3), 0px 1px 3px 1px rgba(60, 64, 67, 0.15);\n",
              "      fill: #174EA6;\n",
              "    }\n",
              "\n",
              "    .colab-df-buttons div {\n",
              "      margin-bottom: 4px;\n",
              "    }\n",
              "\n",
              "    [theme=dark] .colab-df-convert {\n",
              "      background-color: #3B4455;\n",
              "      fill: #D2E3FC;\n",
              "    }\n",
              "\n",
              "    [theme=dark] .colab-df-convert:hover {\n",
              "      background-color: #434B5C;\n",
              "      box-shadow: 0px 1px 3px 1px rgba(0, 0, 0, 0.15);\n",
              "      filter: drop-shadow(0px 1px 2px rgba(0, 0, 0, 0.3));\n",
              "      fill: #FFFFFF;\n",
              "    }\n",
              "  </style>\n",
              "\n",
              "    <script>\n",
              "      const buttonEl =\n",
              "        document.querySelector('#df-3b0c764f-239a-4c12-a471-3ed5d37fab35 button.colab-df-convert');\n",
              "      buttonEl.style.display =\n",
              "        google.colab.kernel.accessAllowed ? 'block' : 'none';\n",
              "\n",
              "      async function convertToInteractive(key) {\n",
              "        const element = document.querySelector('#df-3b0c764f-239a-4c12-a471-3ed5d37fab35');\n",
              "        const dataTable =\n",
              "          await google.colab.kernel.invokeFunction('convertToInteractive',\n",
              "                                                    [key], {});\n",
              "        if (!dataTable) return;\n",
              "\n",
              "        const docLinkHtml = 'Like what you see? Visit the ' +\n",
              "          '<a target=\"_blank\" href=https://colab.research.google.com/notebooks/data_table.ipynb>data table notebook</a>'\n",
              "          + ' to learn more about interactive tables.';\n",
              "        element.innerHTML = '';\n",
              "        dataTable['output_type'] = 'display_data';\n",
              "        await google.colab.output.renderOutput(dataTable, element);\n",
              "        const docLink = document.createElement('div');\n",
              "        docLink.innerHTML = docLinkHtml;\n",
              "        element.appendChild(docLink);\n",
              "      }\n",
              "    </script>\n",
              "  </div>\n",
              "\n",
              "    </div>\n",
              "  </div>\n"
            ],
            "application/vnd.google.colaboratory.intrinsic+json": {
              "type": "dataframe",
              "variable_name": "metrics_cl",
              "summary": "{\n  \"name\": \"metrics_cl\",\n  \"rows\": 1,\n  \"fields\": [\n    {\n      \"column\": \"model\",\n      \"properties\": {\n        \"dtype\": \"string\",\n        \"num_unique_values\": 1,\n        \"samples\": [\n          \"LogisticRegression_Baseline_Test\"\n        ],\n        \"semantic_type\": \"\",\n        \"description\": \"\"\n      }\n    },\n    {\n      \"column\": \"Accuracy\",\n      \"properties\": {\n        \"dtype\": \"number\",\n        \"std\": null,\n        \"min\": 0.9950672645739911,\n        \"max\": 0.9950672645739911,\n        \"num_unique_values\": 1,\n        \"samples\": [\n          0.9950672645739911\n        ],\n        \"semantic_type\": \"\",\n        \"description\": \"\"\n      }\n    },\n    {\n      \"column\": \"ROC_AUC\",\n      \"properties\": {\n        \"dtype\": \"number\",\n        \"std\": null,\n        \"min\": 0.9999898101453454,\n        \"max\": 0.9999898101453454,\n        \"num_unique_values\": 1,\n        \"samples\": [\n          0.9999898101453454\n        ],\n        \"semantic_type\": \"\",\n        \"description\": \"\"\n      }\n    },\n    {\n      \"column\": \"Precision\",\n      \"properties\": {\n        \"dtype\": \"number\",\n        \"std\": null,\n        \"min\": 0.9802690582959641,\n        \"max\": 0.9802690582959641,\n        \"num_unique_values\": 1,\n        \"samples\": [\n          0.9802690582959641\n        ],\n        \"semantic_type\": \"\",\n        \"description\": \"\"\n      }\n    },\n    {\n      \"column\": \"Recall\",\n      \"properties\": {\n        \"dtype\": \"number\",\n        \"std\": null,\n        \"min\": 1.0,\n        \"max\": 1.0,\n        \"num_unique_values\": 1,\n        \"samples\": [\n          1.0\n        ],\n        \"semantic_type\": \"\",\n        \"description\": \"\"\n      }\n    },\n    {\n      \"column\": \"f1\",\n      \"properties\": {\n        \"dtype\": \"number\",\n        \"std\": null,\n        \"min\": 0.990036231884058,\n        \"max\": 0.990036231884058,\n        \"num_unique_values\": 1,\n        \"samples\": [\n          0.990036231884058\n        ],\n        \"semantic_type\": \"\",\n        \"description\": \"\"\n      }\n    },\n    {\n      \"column\": \"Logloss\",\n      \"properties\": {\n        \"dtype\": \"number\",\n        \"std\": null,\n        \"min\": 0.013273239907363175,\n        \"max\": 0.013273239907363175,\n        \"num_unique_values\": 1,\n        \"samples\": [\n          0.013273239907363175\n        ],\n        \"semantic_type\": \"\",\n        \"description\": \"\"\n      }\n    }\n  ]\n}"
            }
          },
          "metadata": {},
          "execution_count": 102
        }
      ]
    },
    {
      "cell_type": "code",
      "source": [
        "fpr, tpr, thresholds = roc_curve(y_test, y_prob[:, 1])\n",
        "\n",
        "# auc - Compute Area Under the Curve\n",
        "roc_auc = auc(fpr, tpr)\n",
        "\n",
        "plt.plot(fpr, tpr, color='darkorange', label=f'AUC = {round(roc_auc,3)}')\n",
        "# const алгоритм - прямая линия\n",
        "plt.plot([0, 1], [0, 1], color='navy', lw=2, linestyle='--')\n",
        "\n",
        "# масштаб\n",
        "plt.xlim([0.0, 1.0])\n",
        "plt.ylim([0.0, 1.05])\n",
        "\n",
        "plt.xlabel('False Positive Rate')\n",
        "plt.ylabel('True Positive Rate')\n",
        "plt.title('ROC curve')\n",
        "\n",
        "# где расположена легенда\n",
        "plt.legend(loc=\"lower right\")\n",
        "plt.show()"
      ],
      "metadata": {
        "colab": {
          "base_uri": "https://localhost:8080/",
          "height": 472
        },
        "id": "lEP8IVW8_VGP",
        "outputId": "cd9e130c-8996-411a-9976-8581acaef2a5"
      },
      "execution_count": 103,
      "outputs": [
        {
          "output_type": "display_data",
          "data": {
            "text/plain": [
              "<Figure size 640x480 with 1 Axes>"
            ],
            "image/png": "[encoded data removed]"
          },
          "metadata": {}
        }
      ]
    },
    {
      "cell_type": "markdown",
      "source": [
        "## Holdout"
      ],
      "metadata": {
        "id": "n9d94JTW_gjG"
      }
    },
    {
      "cell_type": "markdown",
      "source": [
        "Получим значения на кросс-валидации. Разбиваем на 3 фолда X_train, на каждом разбиении получаем значения на валидационной выборке, а также на X_test, которая в данном случае будем holdout выборкой."
      ],
      "metadata": {
        "id": "jdauFHZrAJ6F"
      }
    },
    {
      "cell_type": "code",
      "source": [
        "finish_test_preds = []\n",
        "finish_test_preds_proba = []\n",
        "\n",
        "skf = StratifiedKFold(n_splits=3, random_state=RAND, shuffle=True)\n",
        "cv_predicts_val = np.empty(3)\n",
        "\n",
        "for fold, (train_idx, test_idx) in enumerate(skf.split(X_train, y_train)):\n",
        "    X_train_skf, X_val_skf = X_train.iloc[train_idx], X_train.iloc[test_idx]\n",
        "    y_train_skf, y_val_skf = y_train.iloc[train_idx], y_train.iloc[test_idx]\n",
        "\n",
        "    model = Pipeline([('scaler', StandardScaler()),\n",
        "                      (\"lg\", LogisticRegression(random_state=RAND,\n",
        "                          #  class_weight='balanced'\n",
        "                           ))])\n",
        "    model.fit(X_train_skf, y_train_skf)\n",
        "\n",
        "    # OOF\n",
        "    preds_val_proba = model.predict_proba(X_val_skf)[:, 1]\n",
        "    cv_predicts_val[fold] = roc_auc_score(y_val_skf, preds_val_proba)\n",
        "\n",
        "    # holdout\n",
        "    preds_test = model.predict(X_test)\n",
        "    preds_test_proba = model.predict_proba(X_test)\n",
        "\n",
        "    finish_test_preds.append(preds_test)\n",
        "    finish_test_preds_proba.append(preds_test_proba)\n",
        "\n",
        "    print(f'На фолде {fold} на валидационной выборке получили значение  '\n",
        "          f'roc_auc_score = \\033[1m{cv_predicts_val[fold]}\\033[0m')\n",
        "\n",
        "\n",
        "print('-' * 60)\n",
        "\n",
        "print(f'Среднее значение roc_auc_score по трём фолдам '\n",
        "      f'на валидационной выборке \\033[1m{round(np.mean(cv_predicts_val), 5)}\\033[0m')"
      ],
      "metadata": {
        "colab": {
          "base_uri": "https://localhost:8080/"
        },
        "id": "ZbCOF-60_iqV",
        "outputId": "a1e2ffdf-3500-4a9d-a4eb-0da2ca6de2ea"
      },
      "execution_count": 104,
      "outputs": [
        {
          "output_type": "stream",
          "name": "stdout",
          "text": [
            "На фолде 0 на валидационной выборке получили значение  roc_auc_score = \u001b[1m0.9999955076487644\u001b[0m\n",
            "На фолде 1 на валидационной выборке получили значение  roc_auc_score = \u001b[1m0.9999990612997418\u001b[0m\n",
            "На фолде 2 на валидационной выборке получили значение  roc_auc_score = \u001b[1m0.9999815612449284\u001b[0m\n",
            "------------------------------------------------------------\n",
            "Среднее значение roc_auc_score по трём фолдам на валидационной выборке \u001b[1m0.99999\u001b[0m\n"
          ]
        }
      ]
    },
    {
      "cell_type": "code",
      "source": [
        "# находим моду по классам\n",
        "test_pred = stats.mode(np.column_stack(finish_test_preds), axis=1)[0]\n",
        "# находим среднее по вероятностям\n",
        "test_pred_proba = np.mean(finish_test_preds_proba, axis=0)"
      ],
      "metadata": {
        "id": "gwL4RPI6_psO"
      },
      "execution_count": 105,
      "outputs": []
    },
    {
      "cell_type": "code",
      "source": [
        "print('ROC-AUC mean OOF: %.3f, std: %.3f' %\n",
        "      (np.mean(cv_predicts_val), np.std(cv_predicts_val)))\n",
        "print('ROC-AUC HOLDOUT: %.3f' % roc_auc_score(y_test, test_pred_proba[:,1]))"
      ],
      "metadata": {
        "colab": {
          "base_uri": "https://localhost:8080/"
        },
        "id": "177OhMD-_r3t",
        "outputId": "99abbc68-19ae-48dd-9e64-7887240abe0d"
      },
      "execution_count": 106,
      "outputs": [
        {
          "output_type": "stream",
          "name": "stdout",
          "text": [
            "ROC-AUC mean OOF: 1.000, std: 0.000\n",
            "ROC-AUC HOLDOUT: 1.000\n"
          ]
        }
      ]
    },
    {
      "cell_type": "code",
      "source": [
        "metrics_cl = pd.concat([\n",
        "    metrics_cl,\n",
        "    get_metrics(y_test,\n",
        "                test_pred,\n",
        "                test_pred_proba,\n",
        "                name='LogisticRegression_StratifiedKFold')\n",
        "])"
      ],
      "metadata": {
        "id": "O4jzqvNH_tsm"
      },
      "execution_count": 107,
      "outputs": []
    },
    {
      "cell_type": "code",
      "source": [
        "metrics_cl.set_index('model', inplace=True)\n",
        "metrics_cl"
      ],
      "metadata": {
        "colab": {
          "base_uri": "https://localhost:8080/",
          "height": 143
        },
        "id": "YwB7SIL9_wAI",
        "outputId": "08290d6e-df90-4ff0-8958-5cf808d3b63e"
      },
      "execution_count": 108,
      "outputs": [
        {
          "output_type": "execute_result",
          "data": {
            "text/plain": [
              "                                    Accuracy   ROC_AUC  Precision  Recall  \\\n",
              "model                                                                       \n",
              "LogisticRegression_Baseline_Test    0.995067  0.999990   0.980269     1.0   \n",
              "LogisticRegression_StratifiedKFold  0.994058  0.999988   0.976329     1.0   \n",
              "\n",
              "                                          f1   Logloss  \n",
              "model                                                   \n",
              "LogisticRegression_Baseline_Test    0.990036  0.013273  \n",
              "LogisticRegression_StratifiedKFold  0.988023  0.015170  "
            ],
            "text/html": [
              "\n",
              "  <div id=\"df-df709082-be83-4cd8-8b6c-1b9bd8070adc\" class=\"colab-df-container\">\n",
              "    <div>\n",
              "<style scoped>\n",
              "    .dataframe tbody tr th:only-of-type {\n",
              "        vertical-align: middle;\n",
              "    }\n",
              "\n",
              "    .dataframe tbody tr th {\n",
              "        vertical-align: top;\n",
              "    }\n",
              "\n",
              "    .dataframe thead th {\n",
              "        text-align: right;\n",
              "    }\n",
              "</style>\n",
              "<table border=\"1\" class=\"dataframe\">\n",
              "  <thead>\n",
              "    <tr style=\"text-align: right;\">\n",
              "      <th></th>\n",
              "      <th>Accuracy</th>\n",
              "      <th>ROC_AUC</th>\n",
              "      <th>Precision</th>\n",
              "      <th>Recall</th>\n",
              "      <th>f1</th>\n",
              "      <th>Logloss</th>\n",
              "    </tr>\n",
              "    <tr>\n",
              "      <th>model</th>\n",
              "      <th></th>\n",
              "      <th></th>\n",
              "      <th></th>\n",
              "      <th></th>\n",
              "      <th></th>\n",
              "      <th></th>\n",
              "    </tr>\n",
              "  </thead>\n",
              "  <tbody>\n",
              "    <tr>\n",
              "      <th>LogisticRegression_Baseline_Test</th>\n",
              "      <td>0.995067</td>\n",
              "      <td>0.999990</td>\n",
              "      <td>0.980269</td>\n",
              "      <td>1.0</td>\n",
              "      <td>0.990036</td>\n",
              "      <td>0.013273</td>\n",
              "    </tr>\n",
              "    <tr>\n",
              "      <th>LogisticRegression_StratifiedKFold</th>\n",
              "      <td>0.994058</td>\n",
              "      <td>0.999988</td>\n",
              "      <td>0.976329</td>\n",
              "      <td>1.0</td>\n",
              "      <td>0.988023</td>\n",
              "      <td>0.015170</td>\n",
              "    </tr>\n",
              "  </tbody>\n",
              "</table>\n",
              "</div>\n",
              "    <div class=\"colab-df-buttons\">\n",
              "\n",
              "  <div class=\"colab-df-container\">\n",
              "    <button class=\"colab-df-convert\" onclick=\"convertToInteractive('df-df709082-be83-4cd8-8b6c-1b9bd8070adc')\"\n",
              "            title=\"Convert this dataframe to an interactive table.\"\n",
              "            style=\"display:none;\">\n",
              "\n",
              "  <svg xmlns=\"http://www.w3.org/2000/svg\" height=\"24px\" viewBox=\"0 -960 960 960\">\n",
              "    <path d=\"M120-120v-720h720v720H120Zm60-500h600v-160H180v160Zm220 220h160v-160H400v160Zm0 220h160v-160H400v160ZM180-400h160v-160H180v160Zm440 0h160v-160H620v160ZM180-180h160v-160H180v160Zm440 0h160v-160H620v160Z\"/>\n",
              "  </svg>\n",
              "    </button>\n",
              "\n",
              "  <style>\n",
              "    .colab-df-container {\n",
              "      display:flex;\n",
              "      gap: 12px;\n",
              "    }\n",
              "\n",
              "    .colab-df-convert {\n",
              "      background-color: #E8F0FE;\n",
              "      border: none;\n",
              "      border-radius: 50%;\n",
              "      cursor: pointer;\n",
              "      display: none;\n",
              "      fill: #1967D2;\n",
              "      height: 32px;\n",
              "      padding: 0 0 0 0;\n",
              "      width: 32px;\n",
              "    }\n",
              "\n",
              "    .colab-df-convert:hover {\n",
              "      background-color: #E2EBFA;\n",
              "      box-shadow: 0px 1px 2px rgba(60, 64, 67, 0.3), 0px 1px 3px 1px rgba(60, 64, 67, 0.15);\n",
              "      fill: #174EA6;\n",
              "    }\n",
              "\n",
              "    .colab-df-buttons div {\n",
              "      margin-bottom: 4px;\n",
              "    }\n",
              "\n",
              "    [theme=dark] .colab-df-convert {\n",
              "      background-color: #3B4455;\n",
              "      fill: #D2E3FC;\n",
              "    }\n",
              "\n",
              "    [theme=dark] .colab-df-convert:hover {\n",
              "      background-color: #434B5C;\n",
              "      box-shadow: 0px 1px 3px 1px rgba(0, 0, 0, 0.15);\n",
              "      filter: drop-shadow(0px 1px 2px rgba(0, 0, 0, 0.3));\n",
              "      fill: #FFFFFF;\n",
              "    }\n",
              "  </style>\n",
              "\n",
              "    <script>\n",
              "      const buttonEl =\n",
              "        document.querySelector('#df-df709082-be83-4cd8-8b6c-1b9bd8070adc button.colab-df-convert');\n",
              "      buttonEl.style.display =\n",
              "        google.colab.kernel.accessAllowed ? 'block' : 'none';\n",
              "\n",
              "      async function convertToInteractive(key) {\n",
              "        const element = document.querySelector('#df-df709082-be83-4cd8-8b6c-1b9bd8070adc');\n",
              "        const dataTable =\n",
              "          await google.colab.kernel.invokeFunction('convertToInteractive',\n",
              "                                                    [key], {});\n",
              "        if (!dataTable) return;\n",
              "\n",
              "        const docLinkHtml = 'Like what you see? Visit the ' +\n",
              "          '<a target=\"_blank\" href=https://colab.research.google.com/notebooks/data_table.ipynb>data table notebook</a>'\n",
              "          + ' to learn more about interactive tables.';\n",
              "        element.innerHTML = '';\n",
              "        dataTable['output_type'] = 'display_data';\n",
              "        await google.colab.output.renderOutput(dataTable, element);\n",
              "        const docLink = document.createElement('div');\n",
              "        docLink.innerHTML = docLinkHtml;\n",
              "        element.appendChild(docLink);\n",
              "      }\n",
              "    </script>\n",
              "  </div>\n",
              "\n",
              "\n",
              "<div id=\"df-ff569d8d-892d-4f56-a45e-7f63a48a0bac\">\n",
              "  <button class=\"colab-df-quickchart\" onclick=\"quickchart('df-ff569d8d-892d-4f56-a45e-7f63a48a0bac')\"\n",
              "            title=\"Suggest charts\"\n",
              "            style=\"display:none;\">\n",
              "\n",
              "<svg xmlns=\"http://www.w3.org/2000/svg\" height=\"24px\"viewBox=\"0 0 24 24\"\n",
              "     width=\"24px\">\n",
              "    <g>\n",
              "        <path d=\"M19 3H5c-1.1 0-2 .9-2 2v14c0 1.1.9 2 2 2h14c1.1 0 2-.9 2-2V5c0-1.1-.9-2-2-2zM9 17H7v-7h2v7zm4 0h-2V7h2v10zm4 0h-2v-4h2v4z\"/>\n",
              "    </g>\n",
              "</svg>\n",
              "  </button>\n",
              "\n",
              "<style>\n",
              "  .colab-df-quickchart {\n",
              "      --bg-color: #E8F0FE;\n",
              "      --fill-color: #1967D2;\n",
              "      --hover-bg-color: #E2EBFA;\n",
              "      --hover-fill-color: #174EA6;\n",
              "      --disabled-fill-color: #AAA;\n",
              "      --disabled-bg-color: #DDD;\n",
              "  }\n",
              "\n",
              "  [theme=dark] .colab-df-quickchart {\n",
              "      --bg-color: #3B4455;\n",
              "      --fill-color: #D2E3FC;\n",
              "      --hover-bg-color: #434B5C;\n",
              "      --hover-fill-color: #FFFFFF;\n",
              "      --disabled-bg-color: #3B4455;\n",
              "      --disabled-fill-color: #666;\n",
              "  }\n",
              "\n",
              "  .colab-df-quickchart {\n",
              "    background-color: var(--bg-color);\n",
              "    border: none;\n",
              "    border-radius: 50%;\n",
              "    cursor: pointer;\n",
              "    display: none;\n",
              "    fill: var(--fill-color);\n",
              "    height: 32px;\n",
              "    padding: 0;\n",
              "    width: 32px;\n",
              "  }\n",
              "\n",
              "  .colab-df-quickchart:hover {\n",
              "    background-color: var(--hover-bg-color);\n",
              "    box-shadow: 0 1px 2px rgba(60, 64, 67, 0.3), 0 1px 3px 1px rgba(60, 64, 67, 0.15);\n",
              "    fill: var(--button-hover-fill-color);\n",
              "  }\n",
              "\n",
              "  .colab-df-quickchart-complete:disabled,\n",
              "  .colab-df-quickchart-complete:disabled:hover {\n",
              "    background-color: var(--disabled-bg-color);\n",
              "    fill: var(--disabled-fill-color);\n",
              "    box-shadow: none;\n",
              "  }\n",
              "\n",
              "  .colab-df-spinner {\n",
              "    border: 2px solid var(--fill-color);\n",
              "    border-color: transparent;\n",
              "    border-bottom-color: var(--fill-color);\n",
              "    animation:\n",
              "      spin 1s steps(1) infinite;\n",
              "  }\n",
              "\n",
              "  @keyframes spin {\n",
              "    0% {\n",
              "      border-color: transparent;\n",
              "      border-bottom-color: var(--fill-color);\n",
              "      border-left-color: var(--fill-color);\n",
              "    }\n",
              "    20% {\n",
              "      border-color: transparent;\n",
              "      border-left-color: var(--fill-color);\n",
              "      border-top-color: var(--fill-color);\n",
              "    }\n",
              "    30% {\n",
              "      border-color: transparent;\n",
              "      border-left-color: var(--fill-color);\n",
              "      border-top-color: var(--fill-color);\n",
              "      border-right-color: var(--fill-color);\n",
              "    }\n",
              "    40% {\n",
              "      border-color: transparent;\n",
              "      border-right-color: var(--fill-color);\n",
              "      border-top-color: var(--fill-color);\n",
              "    }\n",
              "    60% {\n",
              "      border-color: transparent;\n",
              "      border-right-color: var(--fill-color);\n",
              "    }\n",
              "    80% {\n",
              "      border-color: transparent;\n",
              "      border-right-color: var(--fill-color);\n",
              "      border-bottom-color: var(--fill-color);\n",
              "    }\n",
              "    90% {\n",
              "      border-color: transparent;\n",
              "      border-bottom-color: var(--fill-color);\n",
              "    }\n",
              "  }\n",
              "</style>\n",
              "\n",
              "  <script>\n",
              "    async function quickchart(key) {\n",
              "      const quickchartButtonEl =\n",
              "        document.querySelector('#' + key + ' button');\n",
              "      quickchartButtonEl.disabled = true;  // To prevent multiple clicks.\n",
              "      quickchartButtonEl.classList.add('colab-df-spinner');\n",
              "      try {\n",
              "        const charts = await google.colab.kernel.invokeFunction(\n",
              "            'suggestCharts', [key], {});\n",
              "      } catch (error) {\n",
              "        console.error('Error during call to suggestCharts:', error);\n",
              "      }\n",
              "      quickchartButtonEl.classList.remove('colab-df-spinner');\n",
              "      quickchartButtonEl.classList.add('colab-df-quickchart-complete');\n",
              "    }\n",
              "    (() => {\n",
              "      let quickchartButtonEl =\n",
              "        document.querySelector('#df-ff569d8d-892d-4f56-a45e-7f63a48a0bac button');\n",
              "      quickchartButtonEl.style.display =\n",
              "        google.colab.kernel.accessAllowed ? 'block' : 'none';\n",
              "    })();\n",
              "  </script>\n",
              "</div>\n",
              "    </div>\n",
              "  </div>\n"
            ],
            "application/vnd.google.colaboratory.intrinsic+json": {
              "type": "dataframe",
              "variable_name": "metrics_cl",
              "summary": "{\n  \"name\": \"metrics_cl\",\n  \"rows\": 2,\n  \"fields\": [\n    {\n      \"column\": \"model\",\n      \"properties\": {\n        \"dtype\": \"string\",\n        \"num_unique_values\": 2,\n        \"samples\": [\n          \"LogisticRegression_StratifiedKFold\",\n          \"LogisticRegression_Baseline_Test\"\n        ],\n        \"semantic_type\": \"\",\n        \"description\": \"\"\n      }\n    },\n    {\n      \"column\": \"Accuracy\",\n      \"properties\": {\n        \"dtype\": \"number\",\n        \"std\": 0.0007134485460402916,\n        \"min\": 0.9940582959641255,\n        \"max\": 0.9950672645739911,\n        \"num_unique_values\": 2,\n        \"samples\": [\n          0.9940582959641255,\n          0.9950672645739911\n        ],\n        \"semantic_type\": \"\",\n        \"description\": \"\"\n      }\n    },\n    {\n      \"column\": \"ROC_AUC\",\n      \"properties\": {\n        \"dtype\": \"number\",\n        \"std\": 1.0567795811006217e-06,\n        \"min\": 0.9999883156333293,\n        \"max\": 0.9999898101453454,\n        \"num_unique_values\": 2,\n        \"samples\": [\n          0.9999883156333293,\n          0.9999898101453454\n        ],\n        \"semantic_type\": \"\",\n        \"description\": \"\"\n      }\n    },\n    {\n      \"column\": \"Precision\",\n      \"properties\": {\n        \"dtype\": \"number\",\n        \"std\": 0.0027862412177650127,\n        \"min\": 0.9763287181777579,\n        \"max\": 0.9802690582959641,\n        \"num_unique_values\": 2,\n        \"samples\": [\n          0.9763287181777579,\n          0.9802690582959641\n        ],\n        \"semantic_type\": \"\",\n        \"description\": \"\"\n      }\n    },\n    {\n      \"column\": \"Recall\",\n      \"properties\": {\n        \"dtype\": \"number\",\n        \"std\": 0.0,\n        \"min\": 1.0,\n        \"max\": 1.0,\n        \"num_unique_values\": 1,\n        \"samples\": [\n          1.0\n        ],\n        \"semantic_type\": \"\",\n        \"description\": \"\"\n      }\n    },\n    {\n      \"column\": \"f1\",\n      \"properties\": {\n        \"dtype\": \"number\",\n        \"std\": 0.0014238535590215535,\n        \"min\": 0.9880225988700565,\n        \"max\": 0.990036231884058,\n        \"num_unique_values\": 2,\n        \"samples\": [\n          0.9880225988700565\n        ],\n        \"semantic_type\": \"\",\n        \"description\": \"\"\n      }\n    },\n    {\n      \"column\": \"Logloss\",\n      \"properties\": {\n        \"dtype\": \"number\",\n        \"std\": 0.0013409015796538967,\n        \"min\": 0.013273239907363175,\n        \"max\": 0.015169561107117223,\n        \"num_unique_values\": 2,\n        \"samples\": [\n          0.015169561107117223\n        ],\n        \"semantic_type\": \"\",\n        \"description\": \"\"\n      }\n    }\n  ]\n}"
            }
          },
          "metadata": {},
          "execution_count": 108
        }
      ]
    },
    {
      "cell_type": "code",
      "source": [
        "highlighted_metrics = metrics_cl[['ROC_AUC']].style.highlight_max()\n",
        "highlighted_metrics"
      ],
      "metadata": {
        "colab": {
          "base_uri": "https://localhost:8080/",
          "height": 143
        },
        "id": "Yd-aD8TY_2sQ",
        "outputId": "b2dfe9fa-ef7c-4489-e085-0aa8c5237593"
      },
      "execution_count": 109,
      "outputs": [
        {
          "output_type": "execute_result",
          "data": {
            "text/plain": [
              "<pandas.io.formats.style.Styler at 0x7c9dddf5ba30>"
            ],
            "text/html": [
              "<style type=\"text/css\">\n",
              "#T_f0e2d_row0_col0 {\n",
              "  background-color: yellow;\n",
              "}\n",
              "</style>\n",
              "<table id=\"T_f0e2d\" class=\"dataframe\">\n",
              "  <thead>\n",
              "    <tr>\n",
              "      <th class=\"blank level0\" >&nbsp;</th>\n",
              "      <th id=\"T_f0e2d_level0_col0\" class=\"col_heading level0 col0\" >ROC_AUC</th>\n",
              "    </tr>\n",
              "    <tr>\n",
              "      <th class=\"index_name level0\" >model</th>\n",
              "      <th class=\"blank col0\" >&nbsp;</th>\n",
              "    </tr>\n",
              "  </thead>\n",
              "  <tbody>\n",
              "    <tr>\n",
              "      <th id=\"T_f0e2d_level0_row0\" class=\"row_heading level0 row0\" >LogisticRegression_Baseline_Test</th>\n",
              "      <td id=\"T_f0e2d_row0_col0\" class=\"data row0 col0\" >0.999990</td>\n",
              "    </tr>\n",
              "    <tr>\n",
              "      <th id=\"T_f0e2d_level0_row1\" class=\"row_heading level0 row1\" >LogisticRegression_StratifiedKFold</th>\n",
              "      <td id=\"T_f0e2d_row1_col0\" class=\"data row1 col0\" >0.999988</td>\n",
              "    </tr>\n",
              "  </tbody>\n",
              "</table>\n"
            ]
          },
          "metadata": {},
          "execution_count": 109
        }
      ]
    },
    {
      "cell_type": "markdown",
      "source": [
        "**Выводы:**\n",
        "- сложно делать какие-то выводы, т.к. модель практически идеально прогнозирует назначение курса лечения антибиотиками по метрике roc-auc\n",
        "- впрочем и другие метрики также предсказаны отлично\n",
        "- вероятно слишком учебная задача"
      ],
      "metadata": {
        "id": "uduXnfkWADmG"
      }
    }
  ]
}